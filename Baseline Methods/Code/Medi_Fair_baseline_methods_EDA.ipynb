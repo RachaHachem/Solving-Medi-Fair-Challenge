{
  "cells": [
    {
      "cell_type": "markdown",
      "metadata": {
        "id": "FX-vtLUWSxNX"
      },
      "source": [
        "## Baseline solution\n",
        "\n",
        "The baseline solution is the Additive Noise Model (ANM) from the [causal discovery toolbox](https://fentechsolutions.github.io/CausalDiscoveryToolbox/html/index.html).\n",
        "\n",
        "<img src=\"https://github.com/MEDI-FAIR/competition-public-files/raw/main/anm.png\" width=800 ALIGN=\"center\" style='margin-right:10px; border-style: solid; border-width: 2px;' alt='anm'>\n",
        "\n",
        "This method assumes that the noise in the data is additive.\n",
        "It uses a non-linear regression model to try to estimate the data generating process in both directions, calculate the residuals, then test the independance of the residuals from the data.\n",
        "\n",
        "https://proceedings.neurips.cc/paper/2008/file/f7664060cc52bc6f3d620bcedc94a4b6-Paper.pdf\n",
        "\n",
        "It is not a very sophisticated method, but it is a good starting point for developing a more sophisticated solution."
      ]
    },
    {
      "cell_type": "code",
      "execution_count": null,
      "metadata": {
        "colab": {
          "base_uri": "https://localhost:8080/"
        },
        "id": "ZLnE6B3uTZZy",
        "outputId": "a704f915-10ec-4cc7-e3ae-55f80f5c89ea"
      },
      "outputs": [
        {
          "output_type": "stream",
          "name": "stdout",
          "text": [
            "Looking in indexes: https://pypi.org/simple, https://us-python.pkg.dev/colab-wheels/public/simple/\n",
            "Collecting cdt\n",
            "  Downloading cdt-0.6.0-py3-none-any.whl (921 kB)\n",
            "\u001b[2K     \u001b[90m━━━━━━━━━━━━━━━━━━━━━━━━━━━━━━━━━━━━━━\u001b[0m \u001b[32m921.1/921.1 KB\u001b[0m \u001b[31m19.3 MB/s\u001b[0m eta \u001b[36m0:00:00\u001b[0m\n",
            "\u001b[?25hCollecting seaborn==0.12.0\n",
            "  Downloading seaborn-0.12.0-py3-none-any.whl (285 kB)\n",
            "\u001b[2K     \u001b[90m━━━━━━━━━━━━━━━━━━━━━━━━━━━━━━━━━━━━━━\u001b[0m \u001b[32m285.1/285.1 KB\u001b[0m \u001b[31m13.1 MB/s\u001b[0m eta \u001b[36m0:00:00\u001b[0m\n",
            "\u001b[?25hRequirement already satisfied: tqdm in /usr/local/lib/python3.9/dist-packages (4.65.0)\n",
            "Requirement already satisfied: matplotlib>=3.1 in /usr/local/lib/python3.9/dist-packages (from seaborn==0.12.0) (3.7.1)\n",
            "Requirement already satisfied: pandas>=0.25 in /usr/local/lib/python3.9/dist-packages (from seaborn==0.12.0) (1.4.4)\n",
            "Requirement already satisfied: numpy>=1.17 in /usr/local/lib/python3.9/dist-packages (from seaborn==0.12.0) (1.22.4)\n",
            "Collecting GPUtil\n",
            "  Downloading GPUtil-1.4.0.tar.gz (5.5 kB)\n",
            "  Preparing metadata (setup.py) ... \u001b[?25l\u001b[?25hdone\n",
            "Requirement already satisfied: requests in /usr/local/lib/python3.9/dist-packages (from cdt) (2.27.1)\n",
            "Requirement already satisfied: scikit-learn in /usr/local/lib/python3.9/dist-packages (from cdt) (1.2.2)\n",
            "Requirement already satisfied: statsmodels in /usr/local/lib/python3.9/dist-packages (from cdt) (0.13.5)\n",
            "Requirement already satisfied: joblib in /usr/local/lib/python3.9/dist-packages (from cdt) (1.1.1)\n",
            "Collecting skrebate\n",
            "  Downloading skrebate-0.62.tar.gz (19 kB)\n",
            "  Preparing metadata (setup.py) ... \u001b[?25l\u001b[?25hdone\n",
            "Requirement already satisfied: networkx in /usr/local/lib/python3.9/dist-packages (from cdt) (3.0)\n",
            "Requirement already satisfied: scipy in /usr/local/lib/python3.9/dist-packages (from cdt) (1.10.1)\n",
            "Requirement already satisfied: fonttools>=4.22.0 in /usr/local/lib/python3.9/dist-packages (from matplotlib>=3.1->seaborn==0.12.0) (4.39.2)\n",
            "Requirement already satisfied: packaging>=20.0 in /usr/local/lib/python3.9/dist-packages (from matplotlib>=3.1->seaborn==0.12.0) (23.0)\n",
            "Requirement already satisfied: pillow>=6.2.0 in /usr/local/lib/python3.9/dist-packages (from matplotlib>=3.1->seaborn==0.12.0) (8.4.0)\n",
            "Requirement already satisfied: python-dateutil>=2.7 in /usr/local/lib/python3.9/dist-packages (from matplotlib>=3.1->seaborn==0.12.0) (2.8.2)\n",
            "Requirement already satisfied: pyparsing>=2.3.1 in /usr/local/lib/python3.9/dist-packages (from matplotlib>=3.1->seaborn==0.12.0) (3.0.9)\n",
            "Requirement already satisfied: cycler>=0.10 in /usr/local/lib/python3.9/dist-packages (from matplotlib>=3.1->seaborn==0.12.0) (0.11.0)\n",
            "Requirement already satisfied: kiwisolver>=1.0.1 in /usr/local/lib/python3.9/dist-packages (from matplotlib>=3.1->seaborn==0.12.0) (1.4.4)\n",
            "Requirement already satisfied: importlib-resources>=3.2.0 in /usr/local/lib/python3.9/dist-packages (from matplotlib>=3.1->seaborn==0.12.0) (5.12.0)\n",
            "Requirement already satisfied: contourpy>=1.0.1 in /usr/local/lib/python3.9/dist-packages (from matplotlib>=3.1->seaborn==0.12.0) (1.0.7)\n",
            "Requirement already satisfied: pytz>=2020.1 in /usr/local/lib/python3.9/dist-packages (from pandas>=0.25->seaborn==0.12.0) (2022.7.1)\n",
            "Requirement already satisfied: charset-normalizer~=2.0.0 in /usr/local/lib/python3.9/dist-packages (from requests->cdt) (2.0.12)\n",
            "Requirement already satisfied: idna<4,>=2.5 in /usr/local/lib/python3.9/dist-packages (from requests->cdt) (3.4)\n",
            "Requirement already satisfied: certifi>=2017.4.17 in /usr/local/lib/python3.9/dist-packages (from requests->cdt) (2022.12.7)\n",
            "Requirement already satisfied: urllib3<1.27,>=1.21.1 in /usr/local/lib/python3.9/dist-packages (from requests->cdt) (1.26.15)\n",
            "Requirement already satisfied: threadpoolctl>=2.0.0 in /usr/local/lib/python3.9/dist-packages (from scikit-learn->cdt) (3.1.0)\n",
            "Requirement already satisfied: patsy>=0.5.2 in /usr/local/lib/python3.9/dist-packages (from statsmodels->cdt) (0.5.3)\n",
            "Requirement already satisfied: zipp>=3.1.0 in /usr/local/lib/python3.9/dist-packages (from importlib-resources>=3.2.0->matplotlib>=3.1->seaborn==0.12.0) (3.15.0)\n",
            "Requirement already satisfied: six in /usr/local/lib/python3.9/dist-packages (from patsy>=0.5.2->statsmodels->cdt) (1.16.0)\n",
            "Building wheels for collected packages: GPUtil, skrebate\n",
            "  Building wheel for GPUtil (setup.py) ... \u001b[?25l\u001b[?25hdone\n",
            "  Created wheel for GPUtil: filename=GPUtil-1.4.0-py3-none-any.whl size=7408 sha256=e7f3839339feae9e858e4987a43e7ffc69fa26d0fcecaf53d9409f97cfe287e6\n",
            "  Stored in directory: /root/.cache/pip/wheels/2b/b5/24/fbb56595c286984f7315ee31821d6121e1b9828436021a88b3\n",
            "  Building wheel for skrebate (setup.py) ... \u001b[?25l\u001b[?25hdone\n",
            "  Created wheel for skrebate: filename=skrebate-0.62-py3-none-any.whl size=29269 sha256=22b0bbfd460ff5e4b6bae9690eca13938b36813ae4bc33d5bc0a4d8dea4f5d93\n",
            "  Stored in directory: /root/.cache/pip/wheels/f3/a1/a2/a4a90339e8fe767416385d9aabc02ab731fa14d55ce7694a33\n",
            "Successfully built GPUtil skrebate\n",
            "Installing collected packages: GPUtil, skrebate, seaborn, cdt\n",
            "  Attempting uninstall: seaborn\n",
            "    Found existing installation: seaborn 0.12.2\n",
            "    Uninstalling seaborn-0.12.2:\n",
            "      Successfully uninstalled seaborn-0.12.2\n",
            "Successfully installed GPUtil-1.4.0 cdt-0.6.0 seaborn-0.12.0 skrebate-0.62\n"
          ]
        }
      ],
      "source": [
        "!pip install cdt seaborn==0.12.0 tqdm"
      ]
    },
    {
      "cell_type": "code",
      "execution_count": null,
      "metadata": {
        "id": "-f-tIh4ySxNY",
        "colab": {
          "base_uri": "https://localhost:8080/"
        },
        "outputId": "dff3018f-5068-4f21-f40e-419b02773cb4"
      },
      "outputs": [
        {
          "output_type": "stream",
          "name": "stderr",
          "text": [
            "Detecting 1 CUDA device(s).\n"
          ]
        }
      ],
      "source": [
        "import pandas as pd\n",
        "import numpy as np\n",
        "import seaborn as sns\n",
        "import matplotlib.pyplot as plt\n",
        "\n",
        "from cdt.causality.pairwise import ANM, CDS\n",
        "from tqdm.notebook import tqdm\n",
        "tqdm.pandas()"
      ]
    },
    {
      "cell_type": "code",
      "source": [
        "!rm -rf starting_kit*"
      ],
      "metadata": {
        "id": "M10uhCdtnG_x"
      },
      "execution_count": null,
      "outputs": []
    },
    {
      "cell_type": "code",
      "source": [
        "!wget -O starting_kit.zip https://www.codabench.org/datasets/download/aec2852c-b6ab-4652-90c0-bcf28f4a21dc/"
      ],
      "metadata": {
        "id": "ld3gibPNlo5s",
        "colab": {
          "base_uri": "https://localhost:8080/"
        },
        "outputId": "996171d7-13a4-4d60-9814-cf0b0aff723d"
      },
      "execution_count": null,
      "outputs": [
        {
          "output_type": "stream",
          "name": "stdout",
          "text": [
            "--2023-03-26 13:41:51--  https://www.codabench.org/datasets/download/aec2852c-b6ab-4652-90c0-bcf28f4a21dc/\n",
            "Resolving www.codabench.org (www.codabench.org)... 129.175.22.233\n",
            "Connecting to www.codabench.org (www.codabench.org)|129.175.22.233|:443... connected.\n",
            "HTTP request sent, awaiting response... 302 Found\n",
            "Location: https://miniodis-rproxy.lisn.upsaclay.fr/coda-v2-prod-private/dataset/2023-03-07-1678213029/f98e0918f36d/starting_kit.zip?AWSAccessKeyId=EASNOMJFX9QFW4QIY4SL&Signature=%2Bj3rRv34cr3mZZuePB7YiSLsAe4%3D&Expires=1679924513 [following]\n",
            "--2023-03-26 13:41:53--  https://miniodis-rproxy.lisn.upsaclay.fr/coda-v2-prod-private/dataset/2023-03-07-1678213029/f98e0918f36d/starting_kit.zip?AWSAccessKeyId=EASNOMJFX9QFW4QIY4SL&Signature=%2Bj3rRv34cr3mZZuePB7YiSLsAe4%3D&Expires=1679924513\n",
            "Resolving miniodis-rproxy.lisn.upsaclay.fr (miniodis-rproxy.lisn.upsaclay.fr)... 129.175.8.8\n",
            "Connecting to miniodis-rproxy.lisn.upsaclay.fr (miniodis-rproxy.lisn.upsaclay.fr)|129.175.8.8|:443... connected.\n",
            "HTTP request sent, awaiting response... 200 OK\n",
            "Length: 1860917 (1.8M) [application/zip]\n",
            "Saving to: ‘starting_kit.zip’\n",
            "\n",
            "starting_kit.zip    100%[===================>]   1.77M  --.-KB/s    in 0.09s   \n",
            "\n",
            "2023-03-26 13:41:53 (19.8 MB/s) - ‘starting_kit.zip’ saved [1860917/1860917]\n",
            "\n"
          ]
        }
      ]
    },
    {
      "cell_type": "code",
      "source": [
        "!wget -O public_data.zip https://www.codabench.org/datasets/download/aafd38ea-cb96-47b6-be2e-e0fbacbb2bcb/"
      ],
      "metadata": {
        "colab": {
          "base_uri": "https://localhost:8080/"
        },
        "id": "THh056ofWn61",
        "outputId": "380188db-9166-42bf-8c70-27ce3d40e172"
      },
      "execution_count": null,
      "outputs": [
        {
          "output_type": "stream",
          "name": "stdout",
          "text": [
            "--2023-03-26 13:41:53--  https://www.codabench.org/datasets/download/aafd38ea-cb96-47b6-be2e-e0fbacbb2bcb/\n",
            "Resolving www.codabench.org (www.codabench.org)... 129.175.22.233\n",
            "Connecting to www.codabench.org (www.codabench.org)|129.175.22.233|:443... connected.\n",
            "HTTP request sent, awaiting response... 302 Found\n",
            "Location: https://miniodis-rproxy.lisn.upsaclay.fr/coda-v2-prod-private/dataset/2023-03-05-1678032644/7e70a7261e3c/public_data.zip?AWSAccessKeyId=EASNOMJFX9QFW4QIY4SL&Signature=k787UxdfvprtDtpKJZ15WsqNqFQ%3D&Expires=1679924513 [following]\n",
            "--2023-03-26 13:41:53--  https://miniodis-rproxy.lisn.upsaclay.fr/coda-v2-prod-private/dataset/2023-03-05-1678032644/7e70a7261e3c/public_data.zip?AWSAccessKeyId=EASNOMJFX9QFW4QIY4SL&Signature=k787UxdfvprtDtpKJZ15WsqNqFQ%3D&Expires=1679924513\n",
            "Resolving miniodis-rproxy.lisn.upsaclay.fr (miniodis-rproxy.lisn.upsaclay.fr)... 129.175.8.8\n",
            "Connecting to miniodis-rproxy.lisn.upsaclay.fr (miniodis-rproxy.lisn.upsaclay.fr)|129.175.8.8|:443... connected.\n",
            "HTTP request sent, awaiting response... 200 OK\n",
            "Length: 105044040 (100M) [application/zip]\n",
            "Saving to: ‘public_data.zip’\n",
            "\n",
            "public_data.zip     100%[===================>] 100.18M  39.1MB/s    in 2.6s    \n",
            "\n",
            "2023-03-26 13:41:56 (39.1 MB/s) - ‘public_data.zip’ saved [105044040/105044040]\n",
            "\n"
          ]
        }
      ]
    },
    {
      "cell_type": "markdown",
      "metadata": {
        "id": "f6xPvQSMSxNZ"
      },
      "source": [
        "Here is a very simple and intuitive example of causal estimation. Here, the data is generated using a polynomial function, with a random noise added to it. The ANM is able to recover the causal direction of the relationship between X and Y."
      ]
    },
    {
      "cell_type": "code",
      "source": [
        "!unzip starting_kit.zip\n",
        "!unzip public_data.zip"
      ],
      "metadata": {
        "colab": {
          "base_uri": "https://localhost:8080/"
        },
        "id": "JF1kHFTNl-5p",
        "outputId": "fc859001-c2c2-4599-eca8-23b3895c703d"
      },
      "execution_count": null,
      "outputs": [
        {
          "output_type": "stream",
          "name": "stdout",
          "text": [
            "Archive:  starting_kit.zip\n",
            "   creating: starting_kit/\n",
            "   creating: starting_kit/sample_data/\n",
            "  inflating: starting_kit/sample_data/X_sample_info.csv  \n",
            "  inflating: starting_kit/sample_data/X_sample.csv  \n",
            "  inflating: starting_kit/anm.png    \n",
            " extracting: starting_kit/sample_submission_full_set.zip  \n",
            "   creating: starting_kit/sample_submission_sample_data/\n",
            "  inflating: starting_kit/sample_submission_sample_data/results.csv  \n",
            "  inflating: starting_kit/logo.png   \n",
            " extracting: starting_kit/sample_submission_sample_data.zip  \n",
            "  inflating: starting_kit/Starting_Kit.ipynb  \n",
            "   creating: starting_kit/sample_submission_full_set/\n",
            "  inflating: starting_kit/sample_submission_full_set/results.csv  \n",
            "Archive:  public_data.zip\n",
            "   creating: public_data/\n",
            "   creating: public_data/train_set/\n",
            "  inflating: public_data/train_set/X_train_info.csv  \n",
            "  inflating: public_data/train_set/y_train.csv  \n",
            "  inflating: public_data/train_set/X_train.csv  \n",
            "  inflating: public_data/README.txt  \n",
            " extracting: public_data/test_set.zip  \n",
            "   creating: public_data/valid_set/\n",
            "  inflating: public_data/valid_set/X_valid_info.csv  \n",
            "  inflating: public_data/valid_set/X_valid.csv  \n"
          ]
        }
      ]
    },
    {
      "cell_type": "code",
      "execution_count": null,
      "metadata": {
        "id": "wXvzSIONliy4"
      },
      "outputs": [],
      "source": [
        "data_path = 'public_data/train_set/X_train.csv'\n",
        "target_path = 'public_data/train_set/y_train.csv'"
      ]
    },
    {
      "cell_type": "code",
      "execution_count": null,
      "metadata": {
        "colab": {
          "base_uri": "https://localhost:8080/",
          "height": 455
        },
        "id": "F7nMAeljSxNd",
        "outputId": "a7200c33-d4b0-4c72-e1df-c70c1a2b9683"
      },
      "outputs": [
        {
          "output_type": "execute_result",
          "data": {
            "text/plain": [
              "                                                           A  \\\n",
              "SampleID                                                       \n",
              "train1      -6348 4599 -9340 -13170 8456 -10079 -68 7957 ...   \n",
              "train2      -6462 7666 19406 -2299 -22045 -6262 24734 -88...   \n",
              "train3      12800 -6791 -539 -9092 9818 1646 13806 324 -6...   \n",
              "train4      14 580 -6627 10738 13938 -13793 -17467 -1269 ...   \n",
              "train5      1 1 0 0 1 0 1 1 1 0 1 0 1 0 0 0 1 1 1 1 1 1 1...   \n",
              "...                                                      ...   \n",
              "train4046   4357 5081 8462 -2377 -12335 -9462 -8831 -1333...   \n",
              "train4047   -2907 9751 14806 2 -17031 -399 11194 -10194 -...   \n",
              "train4048   1 0 0 1 1 0 1 0 1 1 0 0 1 0 0 0 0 0 1 1 0 1 0...   \n",
              "train4049   2 4 2 2 7 4 2 1 7 7 7 7 2 2 4 1 2 2 7 2 2 7 2...   \n",
              "train4050   -10069 -8066 3954 -2056 -12073 -6063 -8066 59...   \n",
              "\n",
              "                                                           B  \n",
              "SampleID                                                      \n",
              "train1      6 7 6 7 7 7 7 7 1 7 7 7 1 7 7 7 7 3 3 7 7 7 6...  \n",
              "train2      3 4 5 5 5 4 3 7 4 5 5 4 1 5 4 4 5 4 5 5 5 5 5...  \n",
              "train3      -7469 38799 -6292 2224 -11357 -10823 -8578 -5...  \n",
              "train4      11883 -82 -3086 3150 -7775 -5290 1338 8765 52...  \n",
              "train5      1 1 1 1 1 1 1 1 1 1 1 1 1 1 0 1 1 1 1 1 1 1 1...  \n",
              "...                                                      ...  \n",
              "train4046   -2732 -4691 8332 7864 6218 -7947 -8314 13878 ...  \n",
              "train4047   1804 12086 -1686 10098 -8410 -7808 -6720 -289...  \n",
              "train4048   0 0 0 0 0 0 0 1 0 0 0 0 1 0 1 0 0 0 1 0 0 0 0...  \n",
              "train4049   21414 -7049 8900 4465 -1278 -5973 5424 10349 ...  \n",
              "train4050   5029 -13400 -9797 -5654 -14546 6955 3680 2287...  \n",
              "\n",
              "[4050 rows x 2 columns]"
            ],
            "text/html": [
              "\n",
              "  <div id=\"df-c421e191-d3e3-47ed-9e4f-30e895459ed1\">\n",
              "    <div class=\"colab-df-container\">\n",
              "      <div>\n",
              "<style scoped>\n",
              "    .dataframe tbody tr th:only-of-type {\n",
              "        vertical-align: middle;\n",
              "    }\n",
              "\n",
              "    .dataframe tbody tr th {\n",
              "        vertical-align: top;\n",
              "    }\n",
              "\n",
              "    .dataframe thead th {\n",
              "        text-align: right;\n",
              "    }\n",
              "</style>\n",
              "<table border=\"1\" class=\"dataframe\">\n",
              "  <thead>\n",
              "    <tr style=\"text-align: right;\">\n",
              "      <th></th>\n",
              "      <th>A</th>\n",
              "      <th>B</th>\n",
              "    </tr>\n",
              "    <tr>\n",
              "      <th>SampleID</th>\n",
              "      <th></th>\n",
              "      <th></th>\n",
              "    </tr>\n",
              "  </thead>\n",
              "  <tbody>\n",
              "    <tr>\n",
              "      <th>train1</th>\n",
              "      <td>-6348 4599 -9340 -13170 8456 -10079 -68 7957 ...</td>\n",
              "      <td>6 7 6 7 7 7 7 7 1 7 7 7 1 7 7 7 7 3 3 7 7 7 6...</td>\n",
              "    </tr>\n",
              "    <tr>\n",
              "      <th>train2</th>\n",
              "      <td>-6462 7666 19406 -2299 -22045 -6262 24734 -88...</td>\n",
              "      <td>3 4 5 5 5 4 3 7 4 5 5 4 1 5 4 4 5 4 5 5 5 5 5...</td>\n",
              "    </tr>\n",
              "    <tr>\n",
              "      <th>train3</th>\n",
              "      <td>12800 -6791 -539 -9092 9818 1646 13806 324 -6...</td>\n",
              "      <td>-7469 38799 -6292 2224 -11357 -10823 -8578 -5...</td>\n",
              "    </tr>\n",
              "    <tr>\n",
              "      <th>train4</th>\n",
              "      <td>14 580 -6627 10738 13938 -13793 -17467 -1269 ...</td>\n",
              "      <td>11883 -82 -3086 3150 -7775 -5290 1338 8765 52...</td>\n",
              "    </tr>\n",
              "    <tr>\n",
              "      <th>train5</th>\n",
              "      <td>1 1 0 0 1 0 1 1 1 0 1 0 1 0 0 0 1 1 1 1 1 1 1...</td>\n",
              "      <td>1 1 1 1 1 1 1 1 1 1 1 1 1 1 0 1 1 1 1 1 1 1 1...</td>\n",
              "    </tr>\n",
              "    <tr>\n",
              "      <th>...</th>\n",
              "      <td>...</td>\n",
              "      <td>...</td>\n",
              "    </tr>\n",
              "    <tr>\n",
              "      <th>train4046</th>\n",
              "      <td>4357 5081 8462 -2377 -12335 -9462 -8831 -1333...</td>\n",
              "      <td>-2732 -4691 8332 7864 6218 -7947 -8314 13878 ...</td>\n",
              "    </tr>\n",
              "    <tr>\n",
              "      <th>train4047</th>\n",
              "      <td>-2907 9751 14806 2 -17031 -399 11194 -10194 -...</td>\n",
              "      <td>1804 12086 -1686 10098 -8410 -7808 -6720 -289...</td>\n",
              "    </tr>\n",
              "    <tr>\n",
              "      <th>train4048</th>\n",
              "      <td>1 0 0 1 1 0 1 0 1 1 0 0 1 0 0 0 0 0 1 1 0 1 0...</td>\n",
              "      <td>0 0 0 0 0 0 0 1 0 0 0 0 1 0 1 0 0 0 1 0 0 0 0...</td>\n",
              "    </tr>\n",
              "    <tr>\n",
              "      <th>train4049</th>\n",
              "      <td>2 4 2 2 7 4 2 1 7 7 7 7 2 2 4 1 2 2 7 2 2 7 2...</td>\n",
              "      <td>21414 -7049 8900 4465 -1278 -5973 5424 10349 ...</td>\n",
              "    </tr>\n",
              "    <tr>\n",
              "      <th>train4050</th>\n",
              "      <td>-10069 -8066 3954 -2056 -12073 -6063 -8066 59...</td>\n",
              "      <td>5029 -13400 -9797 -5654 -14546 6955 3680 2287...</td>\n",
              "    </tr>\n",
              "  </tbody>\n",
              "</table>\n",
              "<p>4050 rows × 2 columns</p>\n",
              "</div>\n",
              "      <button class=\"colab-df-convert\" onclick=\"convertToInteractive('df-c421e191-d3e3-47ed-9e4f-30e895459ed1')\"\n",
              "              title=\"Convert this dataframe to an interactive table.\"\n",
              "              style=\"display:none;\">\n",
              "        \n",
              "  <svg xmlns=\"http://www.w3.org/2000/svg\" height=\"24px\"viewBox=\"0 0 24 24\"\n",
              "       width=\"24px\">\n",
              "    <path d=\"M0 0h24v24H0V0z\" fill=\"none\"/>\n",
              "    <path d=\"M18.56 5.44l.94 2.06.94-2.06 2.06-.94-2.06-.94-.94-2.06-.94 2.06-2.06.94zm-11 1L8.5 8.5l.94-2.06 2.06-.94-2.06-.94L8.5 2.5l-.94 2.06-2.06.94zm10 10l.94 2.06.94-2.06 2.06-.94-2.06-.94-.94-2.06-.94 2.06-2.06.94z\"/><path d=\"M17.41 7.96l-1.37-1.37c-.4-.4-.92-.59-1.43-.59-.52 0-1.04.2-1.43.59L10.3 9.45l-7.72 7.72c-.78.78-.78 2.05 0 2.83L4 21.41c.39.39.9.59 1.41.59.51 0 1.02-.2 1.41-.59l7.78-7.78 2.81-2.81c.8-.78.8-2.07 0-2.86zM5.41 20L4 18.59l7.72-7.72 1.47 1.35L5.41 20z\"/>\n",
              "  </svg>\n",
              "      </button>\n",
              "      \n",
              "  <style>\n",
              "    .colab-df-container {\n",
              "      display:flex;\n",
              "      flex-wrap:wrap;\n",
              "      gap: 12px;\n",
              "    }\n",
              "\n",
              "    .colab-df-convert {\n",
              "      background-color: #E8F0FE;\n",
              "      border: none;\n",
              "      border-radius: 50%;\n",
              "      cursor: pointer;\n",
              "      display: none;\n",
              "      fill: #1967D2;\n",
              "      height: 32px;\n",
              "      padding: 0 0 0 0;\n",
              "      width: 32px;\n",
              "    }\n",
              "\n",
              "    .colab-df-convert:hover {\n",
              "      background-color: #E2EBFA;\n",
              "      box-shadow: 0px 1px 2px rgba(60, 64, 67, 0.3), 0px 1px 3px 1px rgba(60, 64, 67, 0.15);\n",
              "      fill: #174EA6;\n",
              "    }\n",
              "\n",
              "    [theme=dark] .colab-df-convert {\n",
              "      background-color: #3B4455;\n",
              "      fill: #D2E3FC;\n",
              "    }\n",
              "\n",
              "    [theme=dark] .colab-df-convert:hover {\n",
              "      background-color: #434B5C;\n",
              "      box-shadow: 0px 1px 3px 1px rgba(0, 0, 0, 0.15);\n",
              "      filter: drop-shadow(0px 1px 2px rgba(0, 0, 0, 0.3));\n",
              "      fill: #FFFFFF;\n",
              "    }\n",
              "  </style>\n",
              "\n",
              "      <script>\n",
              "        const buttonEl =\n",
              "          document.querySelector('#df-c421e191-d3e3-47ed-9e4f-30e895459ed1 button.colab-df-convert');\n",
              "        buttonEl.style.display =\n",
              "          google.colab.kernel.accessAllowed ? 'block' : 'none';\n",
              "\n",
              "        async function convertToInteractive(key) {\n",
              "          const element = document.querySelector('#df-c421e191-d3e3-47ed-9e4f-30e895459ed1');\n",
              "          const dataTable =\n",
              "            await google.colab.kernel.invokeFunction('convertToInteractive',\n",
              "                                                     [key], {});\n",
              "          if (!dataTable) return;\n",
              "\n",
              "          const docLinkHtml = 'Like what you see? Visit the ' +\n",
              "            '<a target=\"_blank\" href=https://colab.research.google.com/notebooks/data_table.ipynb>data table notebook</a>'\n",
              "            + ' to learn more about interactive tables.';\n",
              "          element.innerHTML = '';\n",
              "          dataTable['output_type'] = 'display_data';\n",
              "          await google.colab.output.renderOutput(dataTable, element);\n",
              "          const docLink = document.createElement('div');\n",
              "          docLink.innerHTML = docLinkHtml;\n",
              "          element.appendChild(docLink);\n",
              "        }\n",
              "      </script>\n",
              "    </div>\n",
              "  </div>\n",
              "  "
            ]
          },
          "metadata": {},
          "execution_count": 8
        }
      ],
      "source": [
        "# Load the validation data\n",
        "X_train = pd.read_csv(data_path, index_col=0)\n",
        "X_train"
      ]
    },
    {
      "cell_type": "code",
      "source": [
        "y_train = pd.read_csv(target_path, index_col=0)\n",
        "y_train"
      ],
      "metadata": {
        "colab": {
          "base_uri": "https://localhost:8080/",
          "height": 455
        },
        "id": "1fmj62AKHa5R",
        "outputId": "8ccc7ac7-b0a6-439b-ded9-50297ad4e91f"
      },
      "execution_count": null,
      "outputs": [
        {
          "output_type": "execute_result",
          "data": {
            "text/plain": [
              "           Target\n",
              "SampleID         \n",
              "train1          0\n",
              "train2          1\n",
              "train3          1\n",
              "train4          1\n",
              "train5          0\n",
              "...           ...\n",
              "train4046       0\n",
              "train4047       0\n",
              "train4048       0\n",
              "train4049      -1\n",
              "train4050       1\n",
              "\n",
              "[4050 rows x 1 columns]"
            ],
            "text/html": [
              "\n",
              "  <div id=\"df-e03bfe6b-b478-48b5-8a20-13c84ad2cd7e\">\n",
              "    <div class=\"colab-df-container\">\n",
              "      <div>\n",
              "<style scoped>\n",
              "    .dataframe tbody tr th:only-of-type {\n",
              "        vertical-align: middle;\n",
              "    }\n",
              "\n",
              "    .dataframe tbody tr th {\n",
              "        vertical-align: top;\n",
              "    }\n",
              "\n",
              "    .dataframe thead th {\n",
              "        text-align: right;\n",
              "    }\n",
              "</style>\n",
              "<table border=\"1\" class=\"dataframe\">\n",
              "  <thead>\n",
              "    <tr style=\"text-align: right;\">\n",
              "      <th></th>\n",
              "      <th>Target</th>\n",
              "    </tr>\n",
              "    <tr>\n",
              "      <th>SampleID</th>\n",
              "      <th></th>\n",
              "    </tr>\n",
              "  </thead>\n",
              "  <tbody>\n",
              "    <tr>\n",
              "      <th>train1</th>\n",
              "      <td>0</td>\n",
              "    </tr>\n",
              "    <tr>\n",
              "      <th>train2</th>\n",
              "      <td>1</td>\n",
              "    </tr>\n",
              "    <tr>\n",
              "      <th>train3</th>\n",
              "      <td>1</td>\n",
              "    </tr>\n",
              "    <tr>\n",
              "      <th>train4</th>\n",
              "      <td>1</td>\n",
              "    </tr>\n",
              "    <tr>\n",
              "      <th>train5</th>\n",
              "      <td>0</td>\n",
              "    </tr>\n",
              "    <tr>\n",
              "      <th>...</th>\n",
              "      <td>...</td>\n",
              "    </tr>\n",
              "    <tr>\n",
              "      <th>train4046</th>\n",
              "      <td>0</td>\n",
              "    </tr>\n",
              "    <tr>\n",
              "      <th>train4047</th>\n",
              "      <td>0</td>\n",
              "    </tr>\n",
              "    <tr>\n",
              "      <th>train4048</th>\n",
              "      <td>0</td>\n",
              "    </tr>\n",
              "    <tr>\n",
              "      <th>train4049</th>\n",
              "      <td>-1</td>\n",
              "    </tr>\n",
              "    <tr>\n",
              "      <th>train4050</th>\n",
              "      <td>1</td>\n",
              "    </tr>\n",
              "  </tbody>\n",
              "</table>\n",
              "<p>4050 rows × 1 columns</p>\n",
              "</div>\n",
              "      <button class=\"colab-df-convert\" onclick=\"convertToInteractive('df-e03bfe6b-b478-48b5-8a20-13c84ad2cd7e')\"\n",
              "              title=\"Convert this dataframe to an interactive table.\"\n",
              "              style=\"display:none;\">\n",
              "        \n",
              "  <svg xmlns=\"http://www.w3.org/2000/svg\" height=\"24px\"viewBox=\"0 0 24 24\"\n",
              "       width=\"24px\">\n",
              "    <path d=\"M0 0h24v24H0V0z\" fill=\"none\"/>\n",
              "    <path d=\"M18.56 5.44l.94 2.06.94-2.06 2.06-.94-2.06-.94-.94-2.06-.94 2.06-2.06.94zm-11 1L8.5 8.5l.94-2.06 2.06-.94-2.06-.94L8.5 2.5l-.94 2.06-2.06.94zm10 10l.94 2.06.94-2.06 2.06-.94-2.06-.94-.94-2.06-.94 2.06-2.06.94z\"/><path d=\"M17.41 7.96l-1.37-1.37c-.4-.4-.92-.59-1.43-.59-.52 0-1.04.2-1.43.59L10.3 9.45l-7.72 7.72c-.78.78-.78 2.05 0 2.83L4 21.41c.39.39.9.59 1.41.59.51 0 1.02-.2 1.41-.59l7.78-7.78 2.81-2.81c.8-.78.8-2.07 0-2.86zM5.41 20L4 18.59l7.72-7.72 1.47 1.35L5.41 20z\"/>\n",
              "  </svg>\n",
              "      </button>\n",
              "      \n",
              "  <style>\n",
              "    .colab-df-container {\n",
              "      display:flex;\n",
              "      flex-wrap:wrap;\n",
              "      gap: 12px;\n",
              "    }\n",
              "\n",
              "    .colab-df-convert {\n",
              "      background-color: #E8F0FE;\n",
              "      border: none;\n",
              "      border-radius: 50%;\n",
              "      cursor: pointer;\n",
              "      display: none;\n",
              "      fill: #1967D2;\n",
              "      height: 32px;\n",
              "      padding: 0 0 0 0;\n",
              "      width: 32px;\n",
              "    }\n",
              "\n",
              "    .colab-df-convert:hover {\n",
              "      background-color: #E2EBFA;\n",
              "      box-shadow: 0px 1px 2px rgba(60, 64, 67, 0.3), 0px 1px 3px 1px rgba(60, 64, 67, 0.15);\n",
              "      fill: #174EA6;\n",
              "    }\n",
              "\n",
              "    [theme=dark] .colab-df-convert {\n",
              "      background-color: #3B4455;\n",
              "      fill: #D2E3FC;\n",
              "    }\n",
              "\n",
              "    [theme=dark] .colab-df-convert:hover {\n",
              "      background-color: #434B5C;\n",
              "      box-shadow: 0px 1px 3px 1px rgba(0, 0, 0, 0.15);\n",
              "      filter: drop-shadow(0px 1px 2px rgba(0, 0, 0, 0.3));\n",
              "      fill: #FFFFFF;\n",
              "    }\n",
              "  </style>\n",
              "\n",
              "      <script>\n",
              "        const buttonEl =\n",
              "          document.querySelector('#df-e03bfe6b-b478-48b5-8a20-13c84ad2cd7e button.colab-df-convert');\n",
              "        buttonEl.style.display =\n",
              "          google.colab.kernel.accessAllowed ? 'block' : 'none';\n",
              "\n",
              "        async function convertToInteractive(key) {\n",
              "          const element = document.querySelector('#df-e03bfe6b-b478-48b5-8a20-13c84ad2cd7e');\n",
              "          const dataTable =\n",
              "            await google.colab.kernel.invokeFunction('convertToInteractive',\n",
              "                                                     [key], {});\n",
              "          if (!dataTable) return;\n",
              "\n",
              "          const docLinkHtml = 'Like what you see? Visit the ' +\n",
              "            '<a target=\"_blank\" href=https://colab.research.google.com/notebooks/data_table.ipynb>data table notebook</a>'\n",
              "            + ' to learn more about interactive tables.';\n",
              "          element.innerHTML = '';\n",
              "          dataTable['output_type'] = 'display_data';\n",
              "          await google.colab.output.renderOutput(dataTable, element);\n",
              "          const docLink = document.createElement('div');\n",
              "          docLink.innerHTML = docLinkHtml;\n",
              "          element.appendChild(docLink);\n",
              "        }\n",
              "      </script>\n",
              "    </div>\n",
              "  </div>\n",
              "  "
            ]
          },
          "metadata": {},
          "execution_count": 9
        }
      ]
    },
    {
      "cell_type": "code",
      "source": [
        "X_train.describe()"
      ],
      "metadata": {
        "colab": {
          "base_uri": "https://localhost:8080/",
          "height": 175
        },
        "id": "zxTVg2NFkSfy",
        "outputId": "d64977c7-b447-4469-8b2c-0e74e867f1cc"
      },
      "execution_count": null,
      "outputs": [
        {
          "output_type": "execute_result",
          "data": {
            "text/plain": [
              "                                                        A  \\\n",
              "count                                                4050   \n",
              "unique                                               4050   \n",
              "top     [-6348.0, 4599.0, -9340.0, -13170.0, 8456.0, -...   \n",
              "freq                                                    1   \n",
              "\n",
              "                                                        B  \n",
              "count                                                4050  \n",
              "unique                                               4050  \n",
              "top     [6.0, 7.0, 6.0, 7.0, 7.0, 7.0, 7.0, 7.0, 1.0, ...  \n",
              "freq                                                    1  "
            ],
            "text/html": [
              "\n",
              "  <div id=\"df-d86e8c8c-095b-4b5e-a69a-8cce06cf401e\">\n",
              "    <div class=\"colab-df-container\">\n",
              "      <div>\n",
              "<style scoped>\n",
              "    .dataframe tbody tr th:only-of-type {\n",
              "        vertical-align: middle;\n",
              "    }\n",
              "\n",
              "    .dataframe tbody tr th {\n",
              "        vertical-align: top;\n",
              "    }\n",
              "\n",
              "    .dataframe thead th {\n",
              "        text-align: right;\n",
              "    }\n",
              "</style>\n",
              "<table border=\"1\" class=\"dataframe\">\n",
              "  <thead>\n",
              "    <tr style=\"text-align: right;\">\n",
              "      <th></th>\n",
              "      <th>A</th>\n",
              "      <th>B</th>\n",
              "    </tr>\n",
              "  </thead>\n",
              "  <tbody>\n",
              "    <tr>\n",
              "      <th>count</th>\n",
              "      <td>4050</td>\n",
              "      <td>4050</td>\n",
              "    </tr>\n",
              "    <tr>\n",
              "      <th>unique</th>\n",
              "      <td>4050</td>\n",
              "      <td>4050</td>\n",
              "    </tr>\n",
              "    <tr>\n",
              "      <th>top</th>\n",
              "      <td>[-6348.0, 4599.0, -9340.0, -13170.0, 8456.0, -...</td>\n",
              "      <td>[6.0, 7.0, 6.0, 7.0, 7.0, 7.0, 7.0, 7.0, 1.0, ...</td>\n",
              "    </tr>\n",
              "    <tr>\n",
              "      <th>freq</th>\n",
              "      <td>1</td>\n",
              "      <td>1</td>\n",
              "    </tr>\n",
              "  </tbody>\n",
              "</table>\n",
              "</div>\n",
              "      <button class=\"colab-df-convert\" onclick=\"convertToInteractive('df-d86e8c8c-095b-4b5e-a69a-8cce06cf401e')\"\n",
              "              title=\"Convert this dataframe to an interactive table.\"\n",
              "              style=\"display:none;\">\n",
              "        \n",
              "  <svg xmlns=\"http://www.w3.org/2000/svg\" height=\"24px\"viewBox=\"0 0 24 24\"\n",
              "       width=\"24px\">\n",
              "    <path d=\"M0 0h24v24H0V0z\" fill=\"none\"/>\n",
              "    <path d=\"M18.56 5.44l.94 2.06.94-2.06 2.06-.94-2.06-.94-.94-2.06-.94 2.06-2.06.94zm-11 1L8.5 8.5l.94-2.06 2.06-.94-2.06-.94L8.5 2.5l-.94 2.06-2.06.94zm10 10l.94 2.06.94-2.06 2.06-.94-2.06-.94-.94-2.06-.94 2.06-2.06.94z\"/><path d=\"M17.41 7.96l-1.37-1.37c-.4-.4-.92-.59-1.43-.59-.52 0-1.04.2-1.43.59L10.3 9.45l-7.72 7.72c-.78.78-.78 2.05 0 2.83L4 21.41c.39.39.9.59 1.41.59.51 0 1.02-.2 1.41-.59l7.78-7.78 2.81-2.81c.8-.78.8-2.07 0-2.86zM5.41 20L4 18.59l7.72-7.72 1.47 1.35L5.41 20z\"/>\n",
              "  </svg>\n",
              "      </button>\n",
              "      \n",
              "  <style>\n",
              "    .colab-df-container {\n",
              "      display:flex;\n",
              "      flex-wrap:wrap;\n",
              "      gap: 12px;\n",
              "    }\n",
              "\n",
              "    .colab-df-convert {\n",
              "      background-color: #E8F0FE;\n",
              "      border: none;\n",
              "      border-radius: 50%;\n",
              "      cursor: pointer;\n",
              "      display: none;\n",
              "      fill: #1967D2;\n",
              "      height: 32px;\n",
              "      padding: 0 0 0 0;\n",
              "      width: 32px;\n",
              "    }\n",
              "\n",
              "    .colab-df-convert:hover {\n",
              "      background-color: #E2EBFA;\n",
              "      box-shadow: 0px 1px 2px rgba(60, 64, 67, 0.3), 0px 1px 3px 1px rgba(60, 64, 67, 0.15);\n",
              "      fill: #174EA6;\n",
              "    }\n",
              "\n",
              "    [theme=dark] .colab-df-convert {\n",
              "      background-color: #3B4455;\n",
              "      fill: #D2E3FC;\n",
              "    }\n",
              "\n",
              "    [theme=dark] .colab-df-convert:hover {\n",
              "      background-color: #434B5C;\n",
              "      box-shadow: 0px 1px 3px 1px rgba(0, 0, 0, 0.15);\n",
              "      filter: drop-shadow(0px 1px 2px rgba(0, 0, 0, 0.3));\n",
              "      fill: #FFFFFF;\n",
              "    }\n",
              "  </style>\n",
              "\n",
              "      <script>\n",
              "        const buttonEl =\n",
              "          document.querySelector('#df-d86e8c8c-095b-4b5e-a69a-8cce06cf401e button.colab-df-convert');\n",
              "        buttonEl.style.display =\n",
              "          google.colab.kernel.accessAllowed ? 'block' : 'none';\n",
              "\n",
              "        async function convertToInteractive(key) {\n",
              "          const element = document.querySelector('#df-d86e8c8c-095b-4b5e-a69a-8cce06cf401e');\n",
              "          const dataTable =\n",
              "            await google.colab.kernel.invokeFunction('convertToInteractive',\n",
              "                                                     [key], {});\n",
              "          if (!dataTable) return;\n",
              "\n",
              "          const docLinkHtml = 'Like what you see? Visit the ' +\n",
              "            '<a target=\"_blank\" href=https://colab.research.google.com/notebooks/data_table.ipynb>data table notebook</a>'\n",
              "            + ' to learn more about interactive tables.';\n",
              "          element.innerHTML = '';\n",
              "          dataTable['output_type'] = 'display_data';\n",
              "          await google.colab.output.renderOutput(dataTable, element);\n",
              "          const docLink = document.createElement('div');\n",
              "          docLink.innerHTML = docLinkHtml;\n",
              "          element.appendChild(docLink);\n",
              "        }\n",
              "      </script>\n",
              "    </div>\n",
              "  </div>\n",
              "  "
            ]
          },
          "metadata": {},
          "execution_count": 51
        }
      ]
    },
    {
      "cell_type": "code",
      "source": [
        "X_train['A'].unique"
      ],
      "metadata": {
        "colab": {
          "base_uri": "https://localhost:8080/"
        },
        "id": "-F1CjH4six8T",
        "outputId": "840599b2-45da-4d24-a720-058da5f1515c"
      },
      "execution_count": null,
      "outputs": [
        {
          "output_type": "execute_result",
          "data": {
            "text/plain": [
              "<bound method Series.unique of SampleID\n",
              "train1       [-6348.0, 4599.0, -9340.0, -13170.0, 8456.0, -...\n",
              "train2       [-6462.0, 7666.0, 19406.0, -2299.0, -22045.0, ...\n",
              "train3       [12800.0, -6791.0, -539.0, -9092.0, 9818.0, 16...\n",
              "train4       [14.0, 580.0, -6627.0, 10738.0, 13938.0, -1379...\n",
              "train5       [1.0, 1.0, 0.0, 0.0, 1.0, 0.0, 1.0, 1.0, 1.0, ...\n",
              "                                   ...                        \n",
              "train4046    [4357.0, 5081.0, 8462.0, -2377.0, -12335.0, -9...\n",
              "train4047    [-2907.0, 9751.0, 14806.0, 2.0, -17031.0, -399...\n",
              "train4048    [1.0, 0.0, 0.0, 1.0, 1.0, 0.0, 1.0, 0.0, 1.0, ...\n",
              "train4049    [2.0, 4.0, 2.0, 2.0, 7.0, 4.0, 2.0, 1.0, 7.0, ...\n",
              "train4050    [-10069.0, -8066.0, 3954.0, -2056.0, -12073.0,...\n",
              "Name: A, Length: 4050, dtype: object>"
            ]
          },
          "metadata": {},
          "execution_count": 64
        }
      ]
    },
    {
      "cell_type": "code",
      "source": [
        "X_train['B'].unique"
      ],
      "metadata": {
        "colab": {
          "base_uri": "https://localhost:8080/"
        },
        "id": "hJFUo7iEjVQl",
        "outputId": "d54f0226-4309-4fd7-e672-60a9b59158ad"
      },
      "execution_count": null,
      "outputs": [
        {
          "output_type": "execute_result",
          "data": {
            "text/plain": [
              "<bound method Series.unique of SampleID\n",
              "train1       [6.0, 7.0, 6.0, 7.0, 7.0, 7.0, 7.0, 7.0, 1.0, ...\n",
              "train2       [3.0, 4.0, 5.0, 5.0, 5.0, 4.0, 3.0, 7.0, 4.0, ...\n",
              "train3       [-7469.0, 38799.0, -6292.0, 2224.0, -11357.0, ...\n",
              "train4       [11883.0, -82.0, -3086.0, 3150.0, -7775.0, -52...\n",
              "train5       [1.0, 1.0, 1.0, 1.0, 1.0, 1.0, 1.0, 1.0, 1.0, ...\n",
              "                                   ...                        \n",
              "train4046    [-2732.0, -4691.0, 8332.0, 7864.0, 6218.0, -79...\n",
              "train4047    [1804.0, 12086.0, -1686.0, 10098.0, -8410.0, -...\n",
              "train4048    [0.0, 0.0, 0.0, 0.0, 0.0, 0.0, 0.0, 1.0, 0.0, ...\n",
              "train4049    [21414.0, -7049.0, 8900.0, 4465.0, -1278.0, -5...\n",
              "train4050    [5029.0, -13400.0, -9797.0, -5654.0, -14546.0,...\n",
              "Name: B, Length: 4050, dtype: object>"
            ]
          },
          "metadata": {},
          "execution_count": 65
        }
      ]
    },
    {
      "cell_type": "code",
      "source": [
        "print('Min column A', X_train['A'].apply(np.min).min())\n",
        "print('Max column A', X_train['A'].apply(np.max).max())\n",
        "print('Mean column A', X_train['A'].apply(np.mean).mean())\n",
        "plt.hist(X_train['A'].apply(np.mean))"
      ],
      "metadata": {
        "colab": {
          "base_uri": "https://localhost:8080/",
          "height": 431
        },
        "id": "GFMBQNpIiGWG",
        "outputId": "1cad2d06-4515-4b0a-acda-ff433aede7e4"
      },
      "execution_count": null,
      "outputs": [
        {
          "output_type": "stream",
          "name": "stdout",
          "text": [
            "Min column A -792622.0\n",
            "Max column A 869269.0\n",
            "Mean column A 0.7706459748244274\n"
          ]
        },
        {
          "output_type": "execute_result",
          "data": {
            "text/plain": [
              "(array([3.968e+03, 7.200e+01, 9.000e+00, 0.000e+00, 0.000e+00, 0.000e+00,\n",
              "        0.000e+00, 0.000e+00, 0.000e+00, 1.000e+00]),\n",
              " array([-0.44716605,  8.59770003, 17.64256611, 26.6874322 , 35.73229828,\n",
              "        44.77716436, 53.82203044, 62.86689652, 71.9117626 , 80.95662869,\n",
              "        90.00149477]),\n",
              " <BarContainer object of 10 artists>)"
            ]
          },
          "metadata": {},
          "execution_count": 54
        },
        {
          "output_type": "display_data",
          "data": {
            "text/plain": [
              "<Figure size 432x288 with 1 Axes>"
            ],
            "image/png": "[encoded data removed]"
          },
          "metadata": {
            "needs_background": "light"
          }
        }
      ]
    },
    {
      "cell_type": "code",
      "source": [
        "print('Min column B', X_train['B'].apply(np.min).min())\n",
        "print('Max column B', X_train['B'].apply(np.max).max())\n",
        "print('Mean column B', X_train['B'].apply(np.mean).mean())\n",
        "plt.hist(X_train['B'].apply(np.mean))"
      ],
      "metadata": {
        "colab": {
          "base_uri": "https://localhost:8080/",
          "height": 431
        },
        "id": "79CqUKz5iJnH",
        "outputId": "b30c9fa2-8851-4d49-8033-9abf0bc8a770"
      },
      "execution_count": null,
      "outputs": [
        {
          "output_type": "stream",
          "name": "stdout",
          "text": [
            "Min column B -714842.0\n",
            "Max column B 863909.0\n",
            "Mean column B 0.9009544442639564\n"
          ]
        },
        {
          "output_type": "execute_result",
          "data": {
            "text/plain": [
              "(array([4.042e+03, 3.000e+00, 3.000e+00, 0.000e+00, 0.000e+00, 0.000e+00,\n",
              "        0.000e+00, 0.000e+00, 1.000e+00, 1.000e+00]),\n",
              " array([ -0.44239849,  22.10346089,  44.64932027,  67.19517965,\n",
              "         89.74103903, 112.28689841, 134.83275779, 157.37861717,\n",
              "        179.92447655, 202.47033593, 225.01619531]),\n",
              " <BarContainer object of 10 artists>)"
            ]
          },
          "metadata": {},
          "execution_count": 55
        },
        {
          "output_type": "display_data",
          "data": {
            "text/plain": [
              "<Figure size 432x288 with 1 Axes>"
            ],
            "image/png": "[encoded data removed]"
          },
          "metadata": {
            "needs_background": "light"
          }
        }
      ]
    },
    {
      "cell_type": "markdown",
      "metadata": {
        "id": "DXzBdm8cSxNe"
      },
      "source": [
        "The data is a list of pairs. Right now the data points are stored as strings, so we need to convert them to a list of numbers."
      ]
    },
    {
      "cell_type": "code",
      "execution_count": null,
      "metadata": {
        "colab": {
          "base_uri": "https://localhost:8080/",
          "height": 455
        },
        "id": "dxKsKVeNSxNe",
        "outputId": "9129e7c0-54cf-41ca-8032-802ce4b9c622"
      },
      "outputs": [
        {
          "output_type": "execute_result",
          "data": {
            "text/plain": [
              "                                                           A  \\\n",
              "SampleID                                                       \n",
              "train1     [-6348.0, 4599.0, -9340.0, -13170.0, 8456.0, -...   \n",
              "train2     [-6462.0, 7666.0, 19406.0, -2299.0, -22045.0, ...   \n",
              "train3     [12800.0, -6791.0, -539.0, -9092.0, 9818.0, 16...   \n",
              "train4     [14.0, 580.0, -6627.0, 10738.0, 13938.0, -1379...   \n",
              "train5     [1.0, 1.0, 0.0, 0.0, 1.0, 0.0, 1.0, 1.0, 1.0, ...   \n",
              "...                                                      ...   \n",
              "train4046  [4357.0, 5081.0, 8462.0, -2377.0, -12335.0, -9...   \n",
              "train4047  [-2907.0, 9751.0, 14806.0, 2.0, -17031.0, -399...   \n",
              "train4048  [1.0, 0.0, 0.0, 1.0, 1.0, 0.0, 1.0, 0.0, 1.0, ...   \n",
              "train4049  [2.0, 4.0, 2.0, 2.0, 7.0, 4.0, 2.0, 1.0, 7.0, ...   \n",
              "train4050  [-10069.0, -8066.0, 3954.0, -2056.0, -12073.0,...   \n",
              "\n",
              "                                                           B  \n",
              "SampleID                                                      \n",
              "train1     [6.0, 7.0, 6.0, 7.0, 7.0, 7.0, 7.0, 7.0, 1.0, ...  \n",
              "train2     [3.0, 4.0, 5.0, 5.0, 5.0, 4.0, 3.0, 7.0, 4.0, ...  \n",
              "train3     [-7469.0, 38799.0, -6292.0, 2224.0, -11357.0, ...  \n",
              "train4     [11883.0, -82.0, -3086.0, 3150.0, -7775.0, -52...  \n",
              "train5     [1.0, 1.0, 1.0, 1.0, 1.0, 1.0, 1.0, 1.0, 1.0, ...  \n",
              "...                                                      ...  \n",
              "train4046  [-2732.0, -4691.0, 8332.0, 7864.0, 6218.0, -79...  \n",
              "train4047  [1804.0, 12086.0, -1686.0, 10098.0, -8410.0, -...  \n",
              "train4048  [0.0, 0.0, 0.0, 0.0, 0.0, 0.0, 0.0, 1.0, 0.0, ...  \n",
              "train4049  [21414.0, -7049.0, 8900.0, 4465.0, -1278.0, -5...  \n",
              "train4050  [5029.0, -13400.0, -9797.0, -5654.0, -14546.0,...  \n",
              "\n",
              "[4050 rows x 2 columns]"
            ],
            "text/html": [
              "\n",
              "  <div id=\"df-961dfcf4-9369-4fd2-8871-26efd2ea7ef2\">\n",
              "    <div class=\"colab-df-container\">\n",
              "      <div>\n",
              "<style scoped>\n",
              "    .dataframe tbody tr th:only-of-type {\n",
              "        vertical-align: middle;\n",
              "    }\n",
              "\n",
              "    .dataframe tbody tr th {\n",
              "        vertical-align: top;\n",
              "    }\n",
              "\n",
              "    .dataframe thead th {\n",
              "        text-align: right;\n",
              "    }\n",
              "</style>\n",
              "<table border=\"1\" class=\"dataframe\">\n",
              "  <thead>\n",
              "    <tr style=\"text-align: right;\">\n",
              "      <th></th>\n",
              "      <th>A</th>\n",
              "      <th>B</th>\n",
              "    </tr>\n",
              "    <tr>\n",
              "      <th>SampleID</th>\n",
              "      <th></th>\n",
              "      <th></th>\n",
              "    </tr>\n",
              "  </thead>\n",
              "  <tbody>\n",
              "    <tr>\n",
              "      <th>train1</th>\n",
              "      <td>[-6348.0, 4599.0, -9340.0, -13170.0, 8456.0, -...</td>\n",
              "      <td>[6.0, 7.0, 6.0, 7.0, 7.0, 7.0, 7.0, 7.0, 1.0, ...</td>\n",
              "    </tr>\n",
              "    <tr>\n",
              "      <th>train2</th>\n",
              "      <td>[-6462.0, 7666.0, 19406.0, -2299.0, -22045.0, ...</td>\n",
              "      <td>[3.0, 4.0, 5.0, 5.0, 5.0, 4.0, 3.0, 7.0, 4.0, ...</td>\n",
              "    </tr>\n",
              "    <tr>\n",
              "      <th>train3</th>\n",
              "      <td>[12800.0, -6791.0, -539.0, -9092.0, 9818.0, 16...</td>\n",
              "      <td>[-7469.0, 38799.0, -6292.0, 2224.0, -11357.0, ...</td>\n",
              "    </tr>\n",
              "    <tr>\n",
              "      <th>train4</th>\n",
              "      <td>[14.0, 580.0, -6627.0, 10738.0, 13938.0, -1379...</td>\n",
              "      <td>[11883.0, -82.0, -3086.0, 3150.0, -7775.0, -52...</td>\n",
              "    </tr>\n",
              "    <tr>\n",
              "      <th>train5</th>\n",
              "      <td>[1.0, 1.0, 0.0, 0.0, 1.0, 0.0, 1.0, 1.0, 1.0, ...</td>\n",
              "      <td>[1.0, 1.0, 1.0, 1.0, 1.0, 1.0, 1.0, 1.0, 1.0, ...</td>\n",
              "    </tr>\n",
              "    <tr>\n",
              "      <th>...</th>\n",
              "      <td>...</td>\n",
              "      <td>...</td>\n",
              "    </tr>\n",
              "    <tr>\n",
              "      <th>train4046</th>\n",
              "      <td>[4357.0, 5081.0, 8462.0, -2377.0, -12335.0, -9...</td>\n",
              "      <td>[-2732.0, -4691.0, 8332.0, 7864.0, 6218.0, -79...</td>\n",
              "    </tr>\n",
              "    <tr>\n",
              "      <th>train4047</th>\n",
              "      <td>[-2907.0, 9751.0, 14806.0, 2.0, -17031.0, -399...</td>\n",
              "      <td>[1804.0, 12086.0, -1686.0, 10098.0, -8410.0, -...</td>\n",
              "    </tr>\n",
              "    <tr>\n",
              "      <th>train4048</th>\n",
              "      <td>[1.0, 0.0, 0.0, 1.0, 1.0, 0.0, 1.0, 0.0, 1.0, ...</td>\n",
              "      <td>[0.0, 0.0, 0.0, 0.0, 0.0, 0.0, 0.0, 1.0, 0.0, ...</td>\n",
              "    </tr>\n",
              "    <tr>\n",
              "      <th>train4049</th>\n",
              "      <td>[2.0, 4.0, 2.0, 2.0, 7.0, 4.0, 2.0, 1.0, 7.0, ...</td>\n",
              "      <td>[21414.0, -7049.0, 8900.0, 4465.0, -1278.0, -5...</td>\n",
              "    </tr>\n",
              "    <tr>\n",
              "      <th>train4050</th>\n",
              "      <td>[-10069.0, -8066.0, 3954.0, -2056.0, -12073.0,...</td>\n",
              "      <td>[5029.0, -13400.0, -9797.0, -5654.0, -14546.0,...</td>\n",
              "    </tr>\n",
              "  </tbody>\n",
              "</table>\n",
              "<p>4050 rows × 2 columns</p>\n",
              "</div>\n",
              "      <button class=\"colab-df-convert\" onclick=\"convertToInteractive('df-961dfcf4-9369-4fd2-8871-26efd2ea7ef2')\"\n",
              "              title=\"Convert this dataframe to an interactive table.\"\n",
              "              style=\"display:none;\">\n",
              "        \n",
              "  <svg xmlns=\"http://www.w3.org/2000/svg\" height=\"24px\"viewBox=\"0 0 24 24\"\n",
              "       width=\"24px\">\n",
              "    <path d=\"M0 0h24v24H0V0z\" fill=\"none\"/>\n",
              "    <path d=\"M18.56 5.44l.94 2.06.94-2.06 2.06-.94-2.06-.94-.94-2.06-.94 2.06-2.06.94zm-11 1L8.5 8.5l.94-2.06 2.06-.94-2.06-.94L8.5 2.5l-.94 2.06-2.06.94zm10 10l.94 2.06.94-2.06 2.06-.94-2.06-.94-.94-2.06-.94 2.06-2.06.94z\"/><path d=\"M17.41 7.96l-1.37-1.37c-.4-.4-.92-.59-1.43-.59-.52 0-1.04.2-1.43.59L10.3 9.45l-7.72 7.72c-.78.78-.78 2.05 0 2.83L4 21.41c.39.39.9.59 1.41.59.51 0 1.02-.2 1.41-.59l7.78-7.78 2.81-2.81c.8-.78.8-2.07 0-2.86zM5.41 20L4 18.59l7.72-7.72 1.47 1.35L5.41 20z\"/>\n",
              "  </svg>\n",
              "      </button>\n",
              "      \n",
              "  <style>\n",
              "    .colab-df-container {\n",
              "      display:flex;\n",
              "      flex-wrap:wrap;\n",
              "      gap: 12px;\n",
              "    }\n",
              "\n",
              "    .colab-df-convert {\n",
              "      background-color: #E8F0FE;\n",
              "      border: none;\n",
              "      border-radius: 50%;\n",
              "      cursor: pointer;\n",
              "      display: none;\n",
              "      fill: #1967D2;\n",
              "      height: 32px;\n",
              "      padding: 0 0 0 0;\n",
              "      width: 32px;\n",
              "    }\n",
              "\n",
              "    .colab-df-convert:hover {\n",
              "      background-color: #E2EBFA;\n",
              "      box-shadow: 0px 1px 2px rgba(60, 64, 67, 0.3), 0px 1px 3px 1px rgba(60, 64, 67, 0.15);\n",
              "      fill: #174EA6;\n",
              "    }\n",
              "\n",
              "    [theme=dark] .colab-df-convert {\n",
              "      background-color: #3B4455;\n",
              "      fill: #D2E3FC;\n",
              "    }\n",
              "\n",
              "    [theme=dark] .colab-df-convert:hover {\n",
              "      background-color: #434B5C;\n",
              "      box-shadow: 0px 1px 3px 1px rgba(0, 0, 0, 0.15);\n",
              "      filter: drop-shadow(0px 1px 2px rgba(0, 0, 0, 0.3));\n",
              "      fill: #FFFFFF;\n",
              "    }\n",
              "  </style>\n",
              "\n",
              "      <script>\n",
              "        const buttonEl =\n",
              "          document.querySelector('#df-961dfcf4-9369-4fd2-8871-26efd2ea7ef2 button.colab-df-convert');\n",
              "        buttonEl.style.display =\n",
              "          google.colab.kernel.accessAllowed ? 'block' : 'none';\n",
              "\n",
              "        async function convertToInteractive(key) {\n",
              "          const element = document.querySelector('#df-961dfcf4-9369-4fd2-8871-26efd2ea7ef2');\n",
              "          const dataTable =\n",
              "            await google.colab.kernel.invokeFunction('convertToInteractive',\n",
              "                                                     [key], {});\n",
              "          if (!dataTable) return;\n",
              "\n",
              "          const docLinkHtml = 'Like what you see? Visit the ' +\n",
              "            '<a target=\"_blank\" href=https://colab.research.google.com/notebooks/data_table.ipynb>data table notebook</a>'\n",
              "            + ' to learn more about interactive tables.';\n",
              "          element.innerHTML = '';\n",
              "          dataTable['output_type'] = 'display_data';\n",
              "          await google.colab.output.renderOutput(dataTable, element);\n",
              "          const docLink = document.createElement('div');\n",
              "          docLink.innerHTML = docLinkHtml;\n",
              "          element.appendChild(docLink);\n",
              "        }\n",
              "      </script>\n",
              "    </div>\n",
              "  </div>\n",
              "  "
            ]
          },
          "metadata": {},
          "execution_count": 11
        }
      ],
      "source": [
        "convert = lambda x: np.array([float(i) for i in x.split(' ')[1:]])\n",
        "X_train[\"A\"] = X_train[\"A\"].apply(convert)\n",
        "X_train[\"B\"] = X_train[\"B\"].apply(convert)\n",
        "X_train"
      ]
    },
    {
      "cell_type": "markdown",
      "metadata": {
        "id": "_M-t3ghMliy7"
      },
      "source": [
        "Here, we plot some causal pairs along with their target"
      ]
    },
    {
      "cell_type": "code",
      "execution_count": null,
      "metadata": {
        "colab": {
          "base_uri": "https://localhost:8080/",
          "height": 566
        },
        "id": "cweJk2_Eliy7",
        "outputId": "045e8ea2-96c1-417b-ff88-9397a8a663ec"
      },
      "outputs": [
        {
          "output_type": "display_data",
          "data": {
            "text/plain": [
              "<Figure size 1440x720 with 10 Axes>"
            ],
            "image/png": "[encoded data removed]"
          },
          "metadata": {
            "needs_background": "light"
          }
        }
      ],
      "source": [
        "fig, axs = plt.subplots(2, 5, figsize=(20, 10))\n",
        "for i in range(10):\n",
        "    axs[i // 5, i % 5].scatter(X_train[\"A\"][i+10], X_train[\"B\"][i+10])\n",
        "    axs[i // 5, i % 5].set_title(y_train['Target'][i+10])\n",
        "plt.show()"
      ]
    },
    {
      "cell_type": "code",
      "source": [
        "y_train.plot(kind='hist')"
      ],
      "metadata": {
        "colab": {
          "base_uri": "https://localhost:8080/",
          "height": 283
        },
        "id": "7ZEHaAopKQJF",
        "outputId": "62ed464c-05a9-430e-b2d8-54853df54343"
      },
      "execution_count": null,
      "outputs": [
        {
          "output_type": "execute_result",
          "data": {
            "text/plain": [
              "<Axes: ylabel='Frequency'>"
            ]
          },
          "metadata": {},
          "execution_count": 13
        },
        {
          "output_type": "display_data",
          "data": {
            "text/plain": [
              "<Figure size 432x288 with 1 Axes>"
            ],
            "image/png": "[encoded data removed]"
          },
          "metadata": {
            "needs_background": "light"
          }
        }
      ]
    },
    {
      "cell_type": "code",
      "execution_count": null,
      "metadata": {
        "colab": {
          "base_uri": "https://localhost:8080/"
        },
        "id": "1rLPsPqSliy8",
        "outputId": "2abbfe3b-1dba-496f-f3ec-4ca5e824e555"
      },
      "outputs": [
        {
          "output_type": "execute_result",
          "data": {
            "text/plain": [
              "count    4050.000000\n",
              "mean     2424.150617\n",
              "std      2056.261529\n",
              "min        53.000000\n",
              "25%       782.250000\n",
              "50%      1629.500000\n",
              "75%      3624.750000\n",
              "max      7998.000000\n",
              "Name: A, dtype: float64"
            ]
          },
          "metadata": {},
          "execution_count": 14
        }
      ],
      "source": [
        "X_train['A'].apply(len).describe()"
      ]
    },
    {
      "cell_type": "code",
      "source": [
        "X_train['B'].apply(len).describe()"
      ],
      "metadata": {
        "colab": {
          "base_uri": "https://localhost:8080/"
        },
        "id": "LIaquUaDlul0",
        "outputId": "97bd43ec-1c40-4998-e6b8-80471135c304"
      },
      "execution_count": null,
      "outputs": [
        {
          "output_type": "execute_result",
          "data": {
            "text/plain": [
              "count    4050.000000\n",
              "mean     2424.150617\n",
              "std      2056.261529\n",
              "min        53.000000\n",
              "25%       782.250000\n",
              "50%      1629.500000\n",
              "75%      3624.750000\n",
              "max      7998.000000\n",
              "Name: B, dtype: float64"
            ]
          },
          "metadata": {},
          "execution_count": 15
        }
      ]
    },
    {
      "cell_type": "code",
      "source": [
        "X_train.isna().sum()"
      ],
      "metadata": {
        "colab": {
          "base_uri": "https://localhost:8080/"
        },
        "id": "jAhVpvQhSi49",
        "outputId": "d2747a97-d7be-4f27-d6fc-a45c8ecb0694"
      },
      "execution_count": null,
      "outputs": [
        {
          "output_type": "execute_result",
          "data": {
            "text/plain": [
              "A    0\n",
              "B    0\n",
              "dtype: int64"
            ]
          },
          "metadata": {},
          "execution_count": 16
        }
      ]
    },
    {
      "cell_type": "markdown",
      "source": [
        "### Down sampling"
      ],
      "metadata": {
        "id": "zYVuLzmaWY8l"
      }
    },
    {
      "cell_type": "markdown",
      "metadata": {
        "id": "-Zah6X5uliy8"
      },
      "source": [
        "Some of these pairs have a massive ammount of points.\n",
        "\n",
        "We are going to downsample those have have more than 600 points, down to 600 points. We might lose information, but it will make the computation of the ANM faster. Computing the ANM without downsampling on the **full** validation set would take hours, but with downsampling it took about 15 minutes on Google Colab."
      ]
    },
    {
      "cell_type": "code",
      "execution_count": null,
      "metadata": {
        "id": "1EYOJujlpoYc"
      },
      "outputs": [],
      "source": [
        "X_train_downsampled = X_train.copy()"
      ]
    },
    {
      "cell_type": "code",
      "execution_count": null,
      "metadata": {
        "id": "DwovW3JRrJOM"
      },
      "outputs": [],
      "source": [
        "def downsample_row(row):\n",
        "  if len(row.A) > 600:\n",
        "    indices = np.random.choice(len(row.A), size=600, replace=False)\n",
        "    rowcopy = row.copy()\n",
        "    rowcopy.A = rowcopy.A[indices]\n",
        "    rowcopy.B = rowcopy.B[indices]\n",
        "    \n",
        "    return rowcopy\n",
        "  return row"
      ]
    },
    {
      "cell_type": "code",
      "execution_count": null,
      "metadata": {
        "colab": {
          "base_uri": "https://localhost:8080/",
          "height": 49,
          "referenced_widgets": [
            "f93921c0ec9d4d0983ccc56ce8aebb3d",
            "ebb60d91f4574812a6203d2ada65087f",
            "0acb029362fb416faf8ed73120f190ec",
            "bee4f330e5fb4be2b2f022130c8b90a3",
            "29756181d0d9481a9fde7748ce4ede89",
            "62e3dcb099b24f47b1397ce1a1b1cf77",
            "c345b35c1ecd41c7b4b067f960f2be22",
            "67c2d3bff1164de5958a44e4fce1d5e0",
            "16068c9b7b8a47e988cd71a85c97ed75",
            "f1c30983e9834b5cac43878c383c4b6b",
            "a74f5589533947f58caca203219936c1"
          ]
        },
        "id": "c4bEOkBmrsxr",
        "outputId": "7826c2c3-8175-4c69-c1d8-5a57edb1be98"
      },
      "outputs": [
        {
          "output_type": "display_data",
          "data": {
            "text/plain": [
              "  0%|          | 0/4050 [00:00<?, ?it/s]"
            ],
            "application/vnd.jupyter.widget-view+json": {
              "version_major": 2,
              "version_minor": 0,
              "model_id": "f93921c0ec9d4d0983ccc56ce8aebb3d"
            }
          },
          "metadata": {}
        }
      ],
      "source": [
        "X_train_downsampled = X_train_downsampled.progress_apply(downsample_row, axis=1)"
      ]
    },
    {
      "cell_type": "code",
      "execution_count": null,
      "metadata": {
        "colab": {
          "base_uri": "https://localhost:8080/"
        },
        "id": "23XFbRA4Z4P5",
        "outputId": "b14ea30e-d2fc-48fe-b128-c4ed613543e2"
      },
      "outputs": [
        {
          "output_type": "execute_result",
          "data": {
            "text/plain": [
              "count    4050.000000\n",
              "mean      580.573086\n",
              "std        66.307539\n",
              "min        53.000000\n",
              "25%       600.000000\n",
              "50%       600.000000\n",
              "75%       600.000000\n",
              "max       600.000000\n",
              "Name: A, dtype: float64"
            ]
          },
          "metadata": {},
          "execution_count": 20
        }
      ],
      "source": [
        "X_train_downsampled.A.apply(len).describe()"
      ]
    },
    {
      "cell_type": "code",
      "source": [
        "X_train_downsampled"
      ],
      "metadata": {
        "colab": {
          "base_uri": "https://localhost:8080/",
          "height": 455
        },
        "id": "wOsPe35wshGh",
        "outputId": "6d98dee4-d5f9-407f-f25b-2481df9ffb9a"
      },
      "execution_count": null,
      "outputs": [
        {
          "output_type": "execute_result",
          "data": {
            "text/plain": [
              "                                                           A  \\\n",
              "SampleID                                                       \n",
              "train1     [-6348.0, 4599.0, -9340.0, -13170.0, 8456.0, -...   \n",
              "train2     [3736.0, -3561.0, -2692.0, -2744.0, -963.0, 90...   \n",
              "train3     [-5011.0, 3195.0, 13126.0, 25081.0, 16145.0, -...   \n",
              "train4     [12149.0, 15526.0, 10791.0, -15315.0, 2639.0, ...   \n",
              "train5     [1.0, 0.0, 1.0, 0.0, 1.0, 1.0, 1.0, 1.0, 0.0, ...   \n",
              "...                                                      ...   \n",
              "train4046  [-14481.0, -314.0, 11201.0, -8942.0, -1180.0, ...   \n",
              "train4047  [-2907.0, 9751.0, 14806.0, 2.0, -17031.0, -399...   \n",
              "train4048  [1.0, 1.0, 1.0, 1.0, 0.0, 1.0, 1.0, 0.0, 1.0, ...   \n",
              "train4049  [4.0, 2.0, 2.0, 1.0, 2.0, 2.0, 2.0, 4.0, 2.0, ...   \n",
              "train4050  [5957.0, 5957.0, 1951.0, 3954.0, 1951.0, -1006...   \n",
              "\n",
              "                                                           B  \n",
              "SampleID                                                      \n",
              "train1     [6.0, 7.0, 6.0, 7.0, 7.0, 7.0, 7.0, 7.0, 1.0, ...  \n",
              "train2     [5.0, 5.0, 5.0, 5.0, 1.0, 5.0, 5.0, 1.0, 5.0, ...  \n",
              "train3     [-4910.0, -7365.0, 4780.0, 3071.0, -2815.0, -2...  \n",
              "train4     [-3006.0, 59959.0, -2587.0, -1264.0, -225.0, -...  \n",
              "train5     [1.0, 1.0, 1.0, 1.0, 1.0, 1.0, 1.0, 1.0, 1.0, ...  \n",
              "...                                                      ...  \n",
              "train4046  [-894.0, 9428.0, -3563.0, -109.0, -16300.0, -1...  \n",
              "train4047  [1804.0, 12086.0, -1686.0, 10098.0, -8410.0, -...  \n",
              "train4048  [1.0, 0.0, 0.0, 0.0, 0.0, 0.0, 0.0, 0.0, 0.0, ...  \n",
              "train4049  [-3934.0, -10457.0, -2613.0, -890.0, 4557.0, 2...  \n",
              "train4050  [20402.0, 11181.0, 6524.0, -17971.0, -2767.0, ...  \n",
              "\n",
              "[4050 rows x 2 columns]"
            ],
            "text/html": [
              "\n",
              "  <div id=\"df-68c25768-d38d-416f-913d-376f1264a39e\">\n",
              "    <div class=\"colab-df-container\">\n",
              "      <div>\n",
              "<style scoped>\n",
              "    .dataframe tbody tr th:only-of-type {\n",
              "        vertical-align: middle;\n",
              "    }\n",
              "\n",
              "    .dataframe tbody tr th {\n",
              "        vertical-align: top;\n",
              "    }\n",
              "\n",
              "    .dataframe thead th {\n",
              "        text-align: right;\n",
              "    }\n",
              "</style>\n",
              "<table border=\"1\" class=\"dataframe\">\n",
              "  <thead>\n",
              "    <tr style=\"text-align: right;\">\n",
              "      <th></th>\n",
              "      <th>A</th>\n",
              "      <th>B</th>\n",
              "    </tr>\n",
              "    <tr>\n",
              "      <th>SampleID</th>\n",
              "      <th></th>\n",
              "      <th></th>\n",
              "    </tr>\n",
              "  </thead>\n",
              "  <tbody>\n",
              "    <tr>\n",
              "      <th>train1</th>\n",
              "      <td>[-6348.0, 4599.0, -9340.0, -13170.0, 8456.0, -...</td>\n",
              "      <td>[6.0, 7.0, 6.0, 7.0, 7.0, 7.0, 7.0, 7.0, 1.0, ...</td>\n",
              "    </tr>\n",
              "    <tr>\n",
              "      <th>train2</th>\n",
              "      <td>[3736.0, -3561.0, -2692.0, -2744.0, -963.0, 90...</td>\n",
              "      <td>[5.0, 5.0, 5.0, 5.0, 1.0, 5.0, 5.0, 1.0, 5.0, ...</td>\n",
              "    </tr>\n",
              "    <tr>\n",
              "      <th>train3</th>\n",
              "      <td>[-5011.0, 3195.0, 13126.0, 25081.0, 16145.0, -...</td>\n",
              "      <td>[-4910.0, -7365.0, 4780.0, 3071.0, -2815.0, -2...</td>\n",
              "    </tr>\n",
              "    <tr>\n",
              "      <th>train4</th>\n",
              "      <td>[12149.0, 15526.0, 10791.0, -15315.0, 2639.0, ...</td>\n",
              "      <td>[-3006.0, 59959.0, -2587.0, -1264.0, -225.0, -...</td>\n",
              "    </tr>\n",
              "    <tr>\n",
              "      <th>train5</th>\n",
              "      <td>[1.0, 0.0, 1.0, 0.0, 1.0, 1.0, 1.0, 1.0, 0.0, ...</td>\n",
              "      <td>[1.0, 1.0, 1.0, 1.0, 1.0, 1.0, 1.0, 1.0, 1.0, ...</td>\n",
              "    </tr>\n",
              "    <tr>\n",
              "      <th>...</th>\n",
              "      <td>...</td>\n",
              "      <td>...</td>\n",
              "    </tr>\n",
              "    <tr>\n",
              "      <th>train4046</th>\n",
              "      <td>[-14481.0, -314.0, 11201.0, -8942.0, -1180.0, ...</td>\n",
              "      <td>[-894.0, 9428.0, -3563.0, -109.0, -16300.0, -1...</td>\n",
              "    </tr>\n",
              "    <tr>\n",
              "      <th>train4047</th>\n",
              "      <td>[-2907.0, 9751.0, 14806.0, 2.0, -17031.0, -399...</td>\n",
              "      <td>[1804.0, 12086.0, -1686.0, 10098.0, -8410.0, -...</td>\n",
              "    </tr>\n",
              "    <tr>\n",
              "      <th>train4048</th>\n",
              "      <td>[1.0, 1.0, 1.0, 1.0, 0.0, 1.0, 1.0, 0.0, 1.0, ...</td>\n",
              "      <td>[1.0, 0.0, 0.0, 0.0, 0.0, 0.0, 0.0, 0.0, 0.0, ...</td>\n",
              "    </tr>\n",
              "    <tr>\n",
              "      <th>train4049</th>\n",
              "      <td>[4.0, 2.0, 2.0, 1.0, 2.0, 2.0, 2.0, 4.0, 2.0, ...</td>\n",
              "      <td>[-3934.0, -10457.0, -2613.0, -890.0, 4557.0, 2...</td>\n",
              "    </tr>\n",
              "    <tr>\n",
              "      <th>train4050</th>\n",
              "      <td>[5957.0, 5957.0, 1951.0, 3954.0, 1951.0, -1006...</td>\n",
              "      <td>[20402.0, 11181.0, 6524.0, -17971.0, -2767.0, ...</td>\n",
              "    </tr>\n",
              "  </tbody>\n",
              "</table>\n",
              "<p>4050 rows × 2 columns</p>\n",
              "</div>\n",
              "      <button class=\"colab-df-convert\" onclick=\"convertToInteractive('df-68c25768-d38d-416f-913d-376f1264a39e')\"\n",
              "              title=\"Convert this dataframe to an interactive table.\"\n",
              "              style=\"display:none;\">\n",
              "        \n",
              "  <svg xmlns=\"http://www.w3.org/2000/svg\" height=\"24px\"viewBox=\"0 0 24 24\"\n",
              "       width=\"24px\">\n",
              "    <path d=\"M0 0h24v24H0V0z\" fill=\"none\"/>\n",
              "    <path d=\"M18.56 5.44l.94 2.06.94-2.06 2.06-.94-2.06-.94-.94-2.06-.94 2.06-2.06.94zm-11 1L8.5 8.5l.94-2.06 2.06-.94-2.06-.94L8.5 2.5l-.94 2.06-2.06.94zm10 10l.94 2.06.94-2.06 2.06-.94-2.06-.94-.94-2.06-.94 2.06-2.06.94z\"/><path d=\"M17.41 7.96l-1.37-1.37c-.4-.4-.92-.59-1.43-.59-.52 0-1.04.2-1.43.59L10.3 9.45l-7.72 7.72c-.78.78-.78 2.05 0 2.83L4 21.41c.39.39.9.59 1.41.59.51 0 1.02-.2 1.41-.59l7.78-7.78 2.81-2.81c.8-.78.8-2.07 0-2.86zM5.41 20L4 18.59l7.72-7.72 1.47 1.35L5.41 20z\"/>\n",
              "  </svg>\n",
              "      </button>\n",
              "      \n",
              "  <style>\n",
              "    .colab-df-container {\n",
              "      display:flex;\n",
              "      flex-wrap:wrap;\n",
              "      gap: 12px;\n",
              "    }\n",
              "\n",
              "    .colab-df-convert {\n",
              "      background-color: #E8F0FE;\n",
              "      border: none;\n",
              "      border-radius: 50%;\n",
              "      cursor: pointer;\n",
              "      display: none;\n",
              "      fill: #1967D2;\n",
              "      height: 32px;\n",
              "      padding: 0 0 0 0;\n",
              "      width: 32px;\n",
              "    }\n",
              "\n",
              "    .colab-df-convert:hover {\n",
              "      background-color: #E2EBFA;\n",
              "      box-shadow: 0px 1px 2px rgba(60, 64, 67, 0.3), 0px 1px 3px 1px rgba(60, 64, 67, 0.15);\n",
              "      fill: #174EA6;\n",
              "    }\n",
              "\n",
              "    [theme=dark] .colab-df-convert {\n",
              "      background-color: #3B4455;\n",
              "      fill: #D2E3FC;\n",
              "    }\n",
              "\n",
              "    [theme=dark] .colab-df-convert:hover {\n",
              "      background-color: #434B5C;\n",
              "      box-shadow: 0px 1px 3px 1px rgba(0, 0, 0, 0.15);\n",
              "      filter: drop-shadow(0px 1px 2px rgba(0, 0, 0, 0.3));\n",
              "      fill: #FFFFFF;\n",
              "    }\n",
              "  </style>\n",
              "\n",
              "      <script>\n",
              "        const buttonEl =\n",
              "          document.querySelector('#df-68c25768-d38d-416f-913d-376f1264a39e button.colab-df-convert');\n",
              "        buttonEl.style.display =\n",
              "          google.colab.kernel.accessAllowed ? 'block' : 'none';\n",
              "\n",
              "        async function convertToInteractive(key) {\n",
              "          const element = document.querySelector('#df-68c25768-d38d-416f-913d-376f1264a39e');\n",
              "          const dataTable =\n",
              "            await google.colab.kernel.invokeFunction('convertToInteractive',\n",
              "                                                     [key], {});\n",
              "          if (!dataTable) return;\n",
              "\n",
              "          const docLinkHtml = 'Like what you see? Visit the ' +\n",
              "            '<a target=\"_blank\" href=https://colab.research.google.com/notebooks/data_table.ipynb>data table notebook</a>'\n",
              "            + ' to learn more about interactive tables.';\n",
              "          element.innerHTML = '';\n",
              "          dataTable['output_type'] = 'display_data';\n",
              "          await google.colab.output.renderOutput(dataTable, element);\n",
              "          const docLink = document.createElement('div');\n",
              "          docLink.innerHTML = docLinkHtml;\n",
              "          element.appendChild(docLink);\n",
              "        }\n",
              "      </script>\n",
              "    </div>\n",
              "  </div>\n",
              "  "
            ]
          },
          "metadata": {},
          "execution_count": 21
        }
      ]
    },
    {
      "cell_type": "markdown",
      "source": [
        "#### Visualization of down sampled data"
      ],
      "metadata": {
        "id": "I17QxgRAWb7t"
      }
    },
    {
      "cell_type": "code",
      "source": [
        "# plot a histogram of column A\n",
        "plt.hist(X_train_downsampled['A'])\n",
        "plt.xlabel('Values in column A')\n",
        "plt.ylabel('Frequency')\n",
        "plt.title('Histogram of column A')\n",
        "plt.show()"
      ],
      "metadata": {
        "colab": {
          "base_uri": "https://localhost:8080/",
          "height": 295
        },
        "id": "2XfOnrTyNI3l",
        "outputId": "f0224f88-5e66-4774-df7f-187a49b09a6a"
      },
      "execution_count": null,
      "outputs": [
        {
          "output_type": "display_data",
          "data": {
            "text/plain": [
              "<Figure size 432x288 with 1 Axes>"
            ],
            "image/png": "[encoded data removed]"
          },
          "metadata": {
            "needs_background": "light"
          }
        }
      ]
    },
    {
      "cell_type": "code",
      "source": [
        "# plot a histogram of column B\n",
        "plt.hist(X_train_downsampled['B'])\n",
        "plt.xlabel('Values in column B')\n",
        "plt.ylabel('Frequency')\n",
        "plt.title('Histogram of column B')\n",
        "plt.show()"
      ],
      "metadata": {
        "colab": {
          "base_uri": "https://localhost:8080/",
          "height": 295
        },
        "id": "KbP_dJcUVb-8",
        "outputId": "aaf9285c-f4e0-40a5-bc06-a8be2a0f8587"
      },
      "execution_count": null,
      "outputs": [
        {
          "output_type": "display_data",
          "data": {
            "text/plain": [
              "<Figure size 432x288 with 1 Axes>"
            ],
            "image/png": "[encoded data removed]"
          },
          "metadata": {
            "needs_background": "light"
          }
        }
      ]
    },
    {
      "cell_type": "code",
      "source": [
        "print(X_train_downsampled['A'].apply(np.mean).mean())\n",
        "plt.hist(X_train_downsampled['A'].apply(np.mean))"
      ],
      "metadata": {
        "colab": {
          "base_uri": "https://localhost:8080/",
          "height": 394
        },
        "id": "_6mR1vjCWqjn",
        "outputId": "0c1abd28-644e-4407-d643-13452e33e76d"
      },
      "execution_count": null,
      "outputs": [
        {
          "output_type": "stream",
          "name": "stdout",
          "text": [
            "13.575510488472165\n"
          ]
        },
        {
          "output_type": "execute_result",
          "data": {
            "text/plain": [
              "(array([1.00e+00, 8.00e+00, 4.20e+01, 1.82e+02, 4.38e+02, 2.38e+03,\n",
              "        6.16e+02, 2.66e+02, 9.60e+01, 2.10e+01]),\n",
              " array([-1440.04666667, -1184.741     ,  -929.43533333,  -674.12966667,\n",
              "         -418.824     ,  -163.51833333,    91.78733333,   347.093     ,\n",
              "          602.39866667,   857.70433333,  1113.01      ]),\n",
              " <BarContainer object of 10 artists>)"
            ]
          },
          "metadata": {},
          "execution_count": 48
        },
        {
          "output_type": "display_data",
          "data": {
            "text/plain": [
              "<Figure size 432x288 with 1 Axes>"
            ],
            "image/png": "[encoded data removed]"
          },
          "metadata": {
            "needs_background": "light"
          }
        }
      ]
    },
    {
      "cell_type": "code",
      "source": [
        "print(X_train_downsampled['B'].apply(np.mean).mean())\n",
        "plt.hist(X_train_downsampled['B'].apply(np.mean))"
      ],
      "metadata": {
        "colab": {
          "base_uri": "https://localhost:8080/",
          "height": 398
        },
        "id": "30MyMXdMXGuN",
        "outputId": "d563b184-faad-4b77-e07b-164510576151"
      },
      "execution_count": null,
      "outputs": [
        {
          "output_type": "stream",
          "name": "stdout",
          "text": [
            "-1.6702259419934435\n"
          ]
        },
        {
          "output_type": "execute_result",
          "data": {
            "text/plain": [
              "(array([  16.,   60.,  295.,  680., 2389.,  461.,  114.,   28.,    4.,\n",
              "           3.]),\n",
              " array([-1154.33      ,  -881.32733333,  -608.32466667,  -335.322     ,\n",
              "          -62.31933333,   210.68333333,   483.686     ,   756.68866667,\n",
              "         1029.69133333,  1302.694     ,  1575.69666667]),\n",
              " <BarContainer object of 10 artists>)"
            ]
          },
          "metadata": {},
          "execution_count": 49
        },
        {
          "output_type": "display_data",
          "data": {
            "text/plain": [
              "<Figure size 432x288 with 1 Axes>"
            ],
            "image/png": "[encoded data removed]"
          },
          "metadata": {
            "needs_background": "light"
          }
        }
      ]
    },
    {
      "cell_type": "code",
      "source": [
        "fig, axs = plt.subplots(2, 5, figsize=(20, 10))\n",
        "for i in range(10):\n",
        "    axs[i // 5, i % 5].scatter(X_train_downsampled[\"A\"][i+10], X_train_downsampled[\"B\"][i+10])\n",
        "    axs[i // 5, i % 5].set_title(y_train['Target'][i+10])\n",
        "plt.show()"
      ],
      "metadata": {
        "colab": {
          "base_uri": "https://localhost:8080/",
          "height": 566
        },
        "id": "58NAYCqPWgRb",
        "outputId": "e7fd5ea9-0a1d-4a6e-ada7-3202acb614f1"
      },
      "execution_count": null,
      "outputs": [
        {
          "output_type": "display_data",
          "data": {
            "text/plain": [
              "<Figure size 1440x720 with 10 Axes>"
            ],
            "image/png": "[encoded data removed]"
          },
          "metadata": {
            "needs_background": "light"
          }
        }
      ]
    },
    {
      "cell_type": "markdown",
      "metadata": {
        "id": "_PSpVdFcliy-"
      },
      "source": [
        "Let's compute the ANM on the downsampled set."
      ]
    },
    {
      "cell_type": "code",
      "execution_count": null,
      "metadata": {
        "id": "9esPKFKnSxNf"
      },
      "outputs": [],
      "source": [
        "anm = ANM()"
      ]
    },
    {
      "cell_type": "code",
      "execution_count": null,
      "metadata": {
        "id": "x612xWK5SxNf"
      },
      "outputs": [],
      "source": [
        "def score_pair(row):\n",
        "    a_to_b = anm.anm_score(row[\"A\"].reshape(-1, 1), row[\"B\"])\n",
        "    b_to_a = anm.anm_score(row[\"B\"].reshape(-1, 1), row[\"A\"])\n",
        "    return b_to_a - a_to_b"
      ]
    },
    {
      "cell_type": "code",
      "execution_count": null,
      "metadata": {
        "colab": {
          "base_uri": "https://localhost:8080/",
          "height": 1000,
          "referenced_widgets": [
            "44e66400d988458d95179ba3ae145e43",
            "f2354cdcfb59498a954ddf6d83f9dce3",
            "6ef4947f7ff94133a872a20efb2e0450",
            "b7ba685f4ea74a9f837b30d105199d8e",
            "506e87f4a8f84a49bf42c526f48b625b",
            "818d2f3407c54c42a5542b382d3ba7d2",
            "7b3eb877dc0344d6a8c27b7007589d32",
            "2584a364fccd4afcb5c4be3343d2542f",
            "ee95697c446f4f51aea1ec95649272a4",
            "1b04c8c980e2406282649c8e8b95386e",
            "98a8f2404f39452184c0f67972164c0d"
          ]
        },
        "id": "WxXZYQajSxNf",
        "outputId": "ef5c21fb-6a9b-430f-fa77-0c467fe29f38"
      },
      "outputs": [
        {
          "output_type": "display_data",
          "data": {
            "text/plain": [
              "  0%|          | 0/4050 [00:00<?, ?it/s]"
            ],
            "application/vnd.jupyter.widget-view+json": {
              "version_major": 2,
              "version_minor": 0,
              "model_id": "44e66400d988458d95179ba3ae145e43"
            }
          },
          "metadata": {}
        },
        {
          "output_type": "stream",
          "name": "stderr",
          "text": [
            "Mean of empty slice.\n",
            "invalid value encountered in double_scalars\n",
            "overflow encountered in exp\n",
            "invalid value encountered in reduce\n",
            "Mean of empty slice.\n",
            "invalid value encountered in double_scalars\n",
            "overflow encountered in exp\n",
            "invalid value encountered in reduce\n",
            "overflow encountered in exp\n",
            "invalid value encountered in reduce\n",
            "Mean of empty slice.\n",
            "invalid value encountered in double_scalars\n",
            "overflow encountered in exp\n",
            "invalid value encountered in reduce\n",
            "Mean of empty slice.\n",
            "invalid value encountered in double_scalars\n",
            "overflow encountered in exp\n",
            "invalid value encountered in reduce\n",
            "Mean of empty slice.\n",
            "invalid value encountered in double_scalars\n",
            "invalid value encountered in true_divide\n",
            "Mean of empty slice.\n",
            "invalid value encountered in double_scalars\n",
            "overflow encountered in exp\n",
            "invalid value encountered in reduce\n",
            "overflow encountered in exp\n",
            "invalid value encountered in reduce\n",
            "invalid value encountered in true_divide\n",
            "Mean of empty slice.\n",
            "invalid value encountered in double_scalars\n",
            "invalid value encountered in true_divide\n",
            "Mean of empty slice.\n",
            "invalid value encountered in double_scalars\n",
            "Mean of empty slice.\n",
            "invalid value encountered in double_scalars\n",
            "invalid value encountered in true_divide\n",
            "Mean of empty slice.\n",
            "invalid value encountered in double_scalars\n",
            "invalid value encountered in true_divide\n",
            "Mean of empty slice.\n",
            "invalid value encountered in double_scalars\n",
            "overflow encountered in exp\n",
            "invalid value encountered in reduce\n",
            "invalid value encountered in true_divide\n",
            "Mean of empty slice.\n",
            "invalid value encountered in double_scalars\n",
            "invalid value encountered in true_divide\n",
            "Mean of empty slice.\n",
            "invalid value encountered in double_scalars\n",
            "overflow encountered in exp\n",
            "invalid value encountered in reduce\n",
            "overflow encountered in exp\n",
            "invalid value encountered in reduce\n",
            "Mean of empty slice.\n",
            "invalid value encountered in double_scalars\n",
            "overflow encountered in exp\n",
            "invalid value encountered in reduce\n",
            "overflow encountered in exp\n",
            "invalid value encountered in reduce\n",
            "invalid value encountered in true_divide\n",
            "Mean of empty slice.\n",
            "invalid value encountered in double_scalars\n",
            "Mean of empty slice.\n",
            "invalid value encountered in double_scalars\n",
            "invalid value encountered in true_divide\n",
            "Mean of empty slice.\n",
            "invalid value encountered in double_scalars\n",
            "invalid value encountered in true_divide\n",
            "Mean of empty slice.\n",
            "invalid value encountered in double_scalars\n"
          ]
        }
      ],
      "source": [
        "# apply score_pair to each row of the dataframe\n",
        "res = X_train_downsampled.progress_apply(score_pair, axis=1)"
      ]
    },
    {
      "cell_type": "code",
      "execution_count": null,
      "metadata": {
        "colab": {
          "base_uri": "https://localhost:8080/"
        },
        "id": "udSd1Cdhv3S0",
        "outputId": "e705f555-a66c-4387-c51e-3d437d050580"
      },
      "outputs": [
        {
          "output_type": "execute_result",
          "data": {
            "text/plain": [
              "SampleID\n",
              "train1       -0.132177\n",
              "train2       -0.149146\n",
              "train3        1.782562\n",
              "train4       -0.335391\n",
              "train5      -17.302122\n",
              "               ...    \n",
              "train4046     0.081268\n",
              "train4047    -0.090747\n",
              "train4048    -0.065855\n",
              "train4049     0.216776\n",
              "train4050     0.334479\n",
              "Length: 4050, dtype: float64"
            ]
          },
          "metadata": {},
          "execution_count": 25
        }
      ],
      "source": [
        "res"
      ]
    },
    {
      "cell_type": "code",
      "source": [
        "(res.values>0).sum()"
      ],
      "metadata": {
        "colab": {
          "base_uri": "https://localhost:8080/"
        },
        "id": "J49P-Qlvrgla",
        "outputId": "e4e5f52c-c3e0-4eb5-aa0b-669e9c882c80"
      },
      "execution_count": null,
      "outputs": [
        {
          "output_type": "execute_result",
          "data": {
            "text/plain": [
              "1993"
            ]
          },
          "metadata": {},
          "execution_count": 26
        }
      ]
    },
    {
      "cell_type": "code",
      "source": [
        "(res.values<0).sum()"
      ],
      "metadata": {
        "colab": {
          "base_uri": "https://localhost:8080/"
        },
        "id": "jc3rxiZ2rvSN",
        "outputId": "f9b2c84f-024c-470d-8260-4424946b378a"
      },
      "execution_count": null,
      "outputs": [
        {
          "output_type": "execute_result",
          "data": {
            "text/plain": [
              "2052"
            ]
          },
          "metadata": {},
          "execution_count": 27
        }
      ]
    },
    {
      "cell_type": "code",
      "source": [
        "(res.values==0).sum() # samples with no additive noise"
      ],
      "metadata": {
        "colab": {
          "base_uri": "https://localhost:8080/"
        },
        "id": "4_YgdS8Fr6gV",
        "outputId": "4cc57cd5-923e-42da-9932-d4251bc450f5"
      },
      "execution_count": null,
      "outputs": [
        {
          "output_type": "execute_result",
          "data": {
            "text/plain": [
              "5"
            ]
          },
          "metadata": {},
          "execution_count": 28
        }
      ]
    },
    {
      "cell_type": "markdown",
      "source": [
        "### Splitting the samples between numerical and categorical"
      ],
      "metadata": {
        "id": "mTh3AzDCXyr_"
      }
    },
    {
      "cell_type": "code",
      "source": [
        "y_train.loc['train5'].values[0]"
      ],
      "metadata": {
        "colab": {
          "base_uri": "https://localhost:8080/"
        },
        "id": "kw5G0c2vaJH-",
        "outputId": "4f2090ec-3644-45fa-e00a-e1a581187a39"
      },
      "execution_count": null,
      "outputs": [
        {
          "output_type": "execute_result",
          "data": {
            "text/plain": [
              "0"
            ]
          },
          "metadata": {},
          "execution_count": 29
        }
      ]
    },
    {
      "cell_type": "code",
      "source": [
        "categorical_data = pd.DataFrame(columns = ['A', 'B', 'Target']).rename_axis('SampleID')\n",
        "\n",
        "for index, row in X_train_downsampled.iterrows():\n",
        "  if (row.A.min()==0 and row.A.max()==1) or (row.B.min()==0 and row.B.max()==1):\n",
        "    categorical_data.loc[row.name] = [row.A, row.B, y_train.loc[row.name].values[0]]\n",
        "categorical_data"
      ],
      "metadata": {
        "colab": {
          "base_uri": "https://localhost:8080/",
          "height": 455
        },
        "id": "rnwJxmu9Ymed",
        "outputId": "6f49bbfa-49ac-432e-8f6e-f73a18cc6dfd"
      },
      "execution_count": null,
      "outputs": [
        {
          "output_type": "execute_result",
          "data": {
            "text/plain": [
              "                                                           A  \\\n",
              "SampleID                                                       \n",
              "train5     [1.0, 0.0, 1.0, 0.0, 1.0, 1.0, 1.0, 1.0, 0.0, ...   \n",
              "train18    [1.0, 1.0, 1.0, 1.0, 0.0, 1.0, 1.0, 0.0, 0.0, ...   \n",
              "train26    [1.0, 1.0, 1.0, 0.0, 0.0, 0.0, 0.0, 1.0, 0.0, ...   \n",
              "train28    [0.0, 0.0, 0.0, 0.0, 1.0, 1.0, 0.0, 1.0, 0.0, ...   \n",
              "train50    [0.0, 0.0, 0.0, 0.0, 0.0, 0.0, 0.0, 1.0, 0.0, ...   \n",
              "...                                                      ...   \n",
              "train3985  [1.0, 1.0, 1.0, 1.0, 1.0, 1.0, 1.0, 1.0, 1.0, ...   \n",
              "train3995  [0.0, 0.0, 0.0, 0.0, 0.0, 0.0, 0.0, 0.0, 0.0, ...   \n",
              "train4013  [0.0, 1.0, 1.0, 0.0, 0.0, 0.0, 0.0, 0.0, 0.0, ...   \n",
              "train4028  [1.0, 1.0, 1.0, 1.0, 1.0, 1.0, 1.0, 1.0, 0.0, ...   \n",
              "train4048  [1.0, 1.0, 1.0, 1.0, 0.0, 1.0, 1.0, 0.0, 1.0, ...   \n",
              "\n",
              "                                                           B  Target  \n",
              "SampleID                                                              \n",
              "train5     [1.0, 1.0, 1.0, 1.0, 1.0, 1.0, 1.0, 1.0, 1.0, ...       0  \n",
              "train18    [-5089.0, -4969.0, 3821.0, -5085.0, -5013.0, -...      -1  \n",
              "train26    [8051.0, 6066.0, 8799.0, -13041.0, -12935.0, -...       1  \n",
              "train28    [6402.0, -3823.0, 18305.0, 1779.0, 7580.0, -74...       0  \n",
              "train50    [-8538.0, 5332.0, 7143.0, -960.0, -1428.0, -26...       0  \n",
              "...                                                      ...     ...  \n",
              "train3985  [-8701.0, -6128.0, -2937.0, -4726.0, -6253.0, ...      -1  \n",
              "train3995  [2429.0, -329.0, -2327.0, -5746.0, 2576.0, 673...      -1  \n",
              "train4013  [-4134.0, -8713.0, 10058.0, 9579.0, 10911.0, -...       0  \n",
              "train4028  [-1758.0, 594.0, -394.0, 5198.0, 4284.0, -836....       1  \n",
              "train4048  [1.0, 0.0, 0.0, 0.0, 0.0, 0.0, 0.0, 0.0, 0.0, ...       0  \n",
              "\n",
              "[453 rows x 3 columns]"
            ],
            "text/html": [
              "\n",
              "  <div id=\"df-a80c7fd0-a9b9-4486-8035-c25fd4a6ffdf\">\n",
              "    <div class=\"colab-df-container\">\n",
              "      <div>\n",
              "<style scoped>\n",
              "    .dataframe tbody tr th:only-of-type {\n",
              "        vertical-align: middle;\n",
              "    }\n",
              "\n",
              "    .dataframe tbody tr th {\n",
              "        vertical-align: top;\n",
              "    }\n",
              "\n",
              "    .dataframe thead th {\n",
              "        text-align: right;\n",
              "    }\n",
              "</style>\n",
              "<table border=\"1\" class=\"dataframe\">\n",
              "  <thead>\n",
              "    <tr style=\"text-align: right;\">\n",
              "      <th></th>\n",
              "      <th>A</th>\n",
              "      <th>B</th>\n",
              "      <th>Target</th>\n",
              "    </tr>\n",
              "    <tr>\n",
              "      <th>SampleID</th>\n",
              "      <th></th>\n",
              "      <th></th>\n",
              "      <th></th>\n",
              "    </tr>\n",
              "  </thead>\n",
              "  <tbody>\n",
              "    <tr>\n",
              "      <th>train5</th>\n",
              "      <td>[1.0, 0.0, 1.0, 0.0, 1.0, 1.0, 1.0, 1.0, 0.0, ...</td>\n",
              "      <td>[1.0, 1.0, 1.0, 1.0, 1.0, 1.0, 1.0, 1.0, 1.0, ...</td>\n",
              "      <td>0</td>\n",
              "    </tr>\n",
              "    <tr>\n",
              "      <th>train18</th>\n",
              "      <td>[1.0, 1.0, 1.0, 1.0, 0.0, 1.0, 1.0, 0.0, 0.0, ...</td>\n",
              "      <td>[-5089.0, -4969.0, 3821.0, -5085.0, -5013.0, -...</td>\n",
              "      <td>-1</td>\n",
              "    </tr>\n",
              "    <tr>\n",
              "      <th>train26</th>\n",
              "      <td>[1.0, 1.0, 1.0, 0.0, 0.0, 0.0, 0.0, 1.0, 0.0, ...</td>\n",
              "      <td>[8051.0, 6066.0, 8799.0, -13041.0, -12935.0, -...</td>\n",
              "      <td>1</td>\n",
              "    </tr>\n",
              "    <tr>\n",
              "      <th>train28</th>\n",
              "      <td>[0.0, 0.0, 0.0, 0.0, 1.0, 1.0, 0.0, 1.0, 0.0, ...</td>\n",
              "      <td>[6402.0, -3823.0, 18305.0, 1779.0, 7580.0, -74...</td>\n",
              "      <td>0</td>\n",
              "    </tr>\n",
              "    <tr>\n",
              "      <th>train50</th>\n",
              "      <td>[0.0, 0.0, 0.0, 0.0, 0.0, 0.0, 0.0, 1.0, 0.0, ...</td>\n",
              "      <td>[-8538.0, 5332.0, 7143.0, -960.0, -1428.0, -26...</td>\n",
              "      <td>0</td>\n",
              "    </tr>\n",
              "    <tr>\n",
              "      <th>...</th>\n",
              "      <td>...</td>\n",
              "      <td>...</td>\n",
              "      <td>...</td>\n",
              "    </tr>\n",
              "    <tr>\n",
              "      <th>train3985</th>\n",
              "      <td>[1.0, 1.0, 1.0, 1.0, 1.0, 1.0, 1.0, 1.0, 1.0, ...</td>\n",
              "      <td>[-8701.0, -6128.0, -2937.0, -4726.0, -6253.0, ...</td>\n",
              "      <td>-1</td>\n",
              "    </tr>\n",
              "    <tr>\n",
              "      <th>train3995</th>\n",
              "      <td>[0.0, 0.0, 0.0, 0.0, 0.0, 0.0, 0.0, 0.0, 0.0, ...</td>\n",
              "      <td>[2429.0, -329.0, -2327.0, -5746.0, 2576.0, 673...</td>\n",
              "      <td>-1</td>\n",
              "    </tr>\n",
              "    <tr>\n",
              "      <th>train4013</th>\n",
              "      <td>[0.0, 1.0, 1.0, 0.0, 0.0, 0.0, 0.0, 0.0, 0.0, ...</td>\n",
              "      <td>[-4134.0, -8713.0, 10058.0, 9579.0, 10911.0, -...</td>\n",
              "      <td>0</td>\n",
              "    </tr>\n",
              "    <tr>\n",
              "      <th>train4028</th>\n",
              "      <td>[1.0, 1.0, 1.0, 1.0, 1.0, 1.0, 1.0, 1.0, 0.0, ...</td>\n",
              "      <td>[-1758.0, 594.0, -394.0, 5198.0, 4284.0, -836....</td>\n",
              "      <td>1</td>\n",
              "    </tr>\n",
              "    <tr>\n",
              "      <th>train4048</th>\n",
              "      <td>[1.0, 1.0, 1.0, 1.0, 0.0, 1.0, 1.0, 0.0, 1.0, ...</td>\n",
              "      <td>[1.0, 0.0, 0.0, 0.0, 0.0, 0.0, 0.0, 0.0, 0.0, ...</td>\n",
              "      <td>0</td>\n",
              "    </tr>\n",
              "  </tbody>\n",
              "</table>\n",
              "<p>453 rows × 3 columns</p>\n",
              "</div>\n",
              "      <button class=\"colab-df-convert\" onclick=\"convertToInteractive('df-a80c7fd0-a9b9-4486-8035-c25fd4a6ffdf')\"\n",
              "              title=\"Convert this dataframe to an interactive table.\"\n",
              "              style=\"display:none;\">\n",
              "        \n",
              "  <svg xmlns=\"http://www.w3.org/2000/svg\" height=\"24px\"viewBox=\"0 0 24 24\"\n",
              "       width=\"24px\">\n",
              "    <path d=\"M0 0h24v24H0V0z\" fill=\"none\"/>\n",
              "    <path d=\"M18.56 5.44l.94 2.06.94-2.06 2.06-.94-2.06-.94-.94-2.06-.94 2.06-2.06.94zm-11 1L8.5 8.5l.94-2.06 2.06-.94-2.06-.94L8.5 2.5l-.94 2.06-2.06.94zm10 10l.94 2.06.94-2.06 2.06-.94-2.06-.94-.94-2.06-.94 2.06-2.06.94z\"/><path d=\"M17.41 7.96l-1.37-1.37c-.4-.4-.92-.59-1.43-.59-.52 0-1.04.2-1.43.59L10.3 9.45l-7.72 7.72c-.78.78-.78 2.05 0 2.83L4 21.41c.39.39.9.59 1.41.59.51 0 1.02-.2 1.41-.59l7.78-7.78 2.81-2.81c.8-.78.8-2.07 0-2.86zM5.41 20L4 18.59l7.72-7.72 1.47 1.35L5.41 20z\"/>\n",
              "  </svg>\n",
              "      </button>\n",
              "      \n",
              "  <style>\n",
              "    .colab-df-container {\n",
              "      display:flex;\n",
              "      flex-wrap:wrap;\n",
              "      gap: 12px;\n",
              "    }\n",
              "\n",
              "    .colab-df-convert {\n",
              "      background-color: #E8F0FE;\n",
              "      border: none;\n",
              "      border-radius: 50%;\n",
              "      cursor: pointer;\n",
              "      display: none;\n",
              "      fill: #1967D2;\n",
              "      height: 32px;\n",
              "      padding: 0 0 0 0;\n",
              "      width: 32px;\n",
              "    }\n",
              "\n",
              "    .colab-df-convert:hover {\n",
              "      background-color: #E2EBFA;\n",
              "      box-shadow: 0px 1px 2px rgba(60, 64, 67, 0.3), 0px 1px 3px 1px rgba(60, 64, 67, 0.15);\n",
              "      fill: #174EA6;\n",
              "    }\n",
              "\n",
              "    [theme=dark] .colab-df-convert {\n",
              "      background-color: #3B4455;\n",
              "      fill: #D2E3FC;\n",
              "    }\n",
              "\n",
              "    [theme=dark] .colab-df-convert:hover {\n",
              "      background-color: #434B5C;\n",
              "      box-shadow: 0px 1px 3px 1px rgba(0, 0, 0, 0.15);\n",
              "      filter: drop-shadow(0px 1px 2px rgba(0, 0, 0, 0.3));\n",
              "      fill: #FFFFFF;\n",
              "    }\n",
              "  </style>\n",
              "\n",
              "      <script>\n",
              "        const buttonEl =\n",
              "          document.querySelector('#df-a80c7fd0-a9b9-4486-8035-c25fd4a6ffdf button.colab-df-convert');\n",
              "        buttonEl.style.display =\n",
              "          google.colab.kernel.accessAllowed ? 'block' : 'none';\n",
              "\n",
              "        async function convertToInteractive(key) {\n",
              "          const element = document.querySelector('#df-a80c7fd0-a9b9-4486-8035-c25fd4a6ffdf');\n",
              "          const dataTable =\n",
              "            await google.colab.kernel.invokeFunction('convertToInteractive',\n",
              "                                                     [key], {});\n",
              "          if (!dataTable) return;\n",
              "\n",
              "          const docLinkHtml = 'Like what you see? Visit the ' +\n",
              "            '<a target=\"_blank\" href=https://colab.research.google.com/notebooks/data_table.ipynb>data table notebook</a>'\n",
              "            + ' to learn more about interactive tables.';\n",
              "          element.innerHTML = '';\n",
              "          dataTable['output_type'] = 'display_data';\n",
              "          await google.colab.output.renderOutput(dataTable, element);\n",
              "          const docLink = document.createElement('div');\n",
              "          docLink.innerHTML = docLinkHtml;\n",
              "          element.appendChild(docLink);\n",
              "        }\n",
              "      </script>\n",
              "    </div>\n",
              "  </div>\n",
              "  "
            ]
          },
          "metadata": {},
          "execution_count": 30
        }
      ]
    },
    {
      "cell_type": "code",
      "source": [
        "numerical_data = X_train_downsampled.drop(categorical_data.index)\n",
        "numerical_data['Target'] = y_train['Target'].loc[numerical_data.index].values\n",
        "\n",
        "numerical_data"
      ],
      "metadata": {
        "id": "D_gi6ukvZoDp",
        "colab": {
          "base_uri": "https://localhost:8080/",
          "height": 455
        },
        "outputId": "3e593284-f8ce-418c-a7ff-bdd55b1d7a8e"
      },
      "execution_count": null,
      "outputs": [
        {
          "output_type": "execute_result",
          "data": {
            "text/plain": [
              "                                                           A  \\\n",
              "SampleID                                                       \n",
              "train1     [-6348.0, 4599.0, -9340.0, -13170.0, 8456.0, -...   \n",
              "train2     [3736.0, -3561.0, -2692.0, -2744.0, -963.0, 90...   \n",
              "train3     [-5011.0, 3195.0, 13126.0, 25081.0, 16145.0, -...   \n",
              "train4     [12149.0, 15526.0, 10791.0, -15315.0, 2639.0, ...   \n",
              "train6     [2.0, 2.0, 2.0, 1.0, 3.0, 1.0, 2.0, 2.0, 3.0, ...   \n",
              "...                                                      ...   \n",
              "train4045  [3144.0, -2320.0, -5063.0, -10603.0, -3246.0, ...   \n",
              "train4046  [-14481.0, -314.0, 11201.0, -8942.0, -1180.0, ...   \n",
              "train4047  [-2907.0, 9751.0, 14806.0, 2.0, -17031.0, -399...   \n",
              "train4049  [4.0, 2.0, 2.0, 1.0, 2.0, 2.0, 2.0, 4.0, 2.0, ...   \n",
              "train4050  [5957.0, 5957.0, 1951.0, 3954.0, 1951.0, -1006...   \n",
              "\n",
              "                                                           B  Target  \n",
              "SampleID                                                              \n",
              "train1     [6.0, 7.0, 6.0, 7.0, 7.0, 7.0, 7.0, 7.0, 1.0, ...       0  \n",
              "train2     [5.0, 5.0, 5.0, 5.0, 1.0, 5.0, 5.0, 1.0, 5.0, ...       1  \n",
              "train3     [-4910.0, -7365.0, 4780.0, 3071.0, -2815.0, -2...       1  \n",
              "train4     [-3006.0, 59959.0, -2587.0, -1264.0, -225.0, -...       1  \n",
              "train6     [-1705.0, -772.0, 4741.0, 3431.0, -8435.0, -64...       1  \n",
              "...                                                      ...     ...  \n",
              "train4045  [-6817.0, -8530.0, -3392.0, -11955.0, -1679.0,...       1  \n",
              "train4046  [-894.0, 9428.0, -3563.0, -109.0, -16300.0, -1...       0  \n",
              "train4047  [1804.0, 12086.0, -1686.0, 10098.0, -8410.0, -...       0  \n",
              "train4049  [-3934.0, -10457.0, -2613.0, -890.0, 4557.0, 2...      -1  \n",
              "train4050  [20402.0, 11181.0, 6524.0, -17971.0, -2767.0, ...       1  \n",
              "\n",
              "[3597 rows x 3 columns]"
            ],
            "text/html": [
              "\n",
              "  <div id=\"df-01878811-a505-417e-a106-5db6cdb9db7e\">\n",
              "    <div class=\"colab-df-container\">\n",
              "      <div>\n",
              "<style scoped>\n",
              "    .dataframe tbody tr th:only-of-type {\n",
              "        vertical-align: middle;\n",
              "    }\n",
              "\n",
              "    .dataframe tbody tr th {\n",
              "        vertical-align: top;\n",
              "    }\n",
              "\n",
              "    .dataframe thead th {\n",
              "        text-align: right;\n",
              "    }\n",
              "</style>\n",
              "<table border=\"1\" class=\"dataframe\">\n",
              "  <thead>\n",
              "    <tr style=\"text-align: right;\">\n",
              "      <th></th>\n",
              "      <th>A</th>\n",
              "      <th>B</th>\n",
              "      <th>Target</th>\n",
              "    </tr>\n",
              "    <tr>\n",
              "      <th>SampleID</th>\n",
              "      <th></th>\n",
              "      <th></th>\n",
              "      <th></th>\n",
              "    </tr>\n",
              "  </thead>\n",
              "  <tbody>\n",
              "    <tr>\n",
              "      <th>train1</th>\n",
              "      <td>[-6348.0, 4599.0, -9340.0, -13170.0, 8456.0, -...</td>\n",
              "      <td>[6.0, 7.0, 6.0, 7.0, 7.0, 7.0, 7.0, 7.0, 1.0, ...</td>\n",
              "      <td>0</td>\n",
              "    </tr>\n",
              "    <tr>\n",
              "      <th>train2</th>\n",
              "      <td>[3736.0, -3561.0, -2692.0, -2744.0, -963.0, 90...</td>\n",
              "      <td>[5.0, 5.0, 5.0, 5.0, 1.0, 5.0, 5.0, 1.0, 5.0, ...</td>\n",
              "      <td>1</td>\n",
              "    </tr>\n",
              "    <tr>\n",
              "      <th>train3</th>\n",
              "      <td>[-5011.0, 3195.0, 13126.0, 25081.0, 16145.0, -...</td>\n",
              "      <td>[-4910.0, -7365.0, 4780.0, 3071.0, -2815.0, -2...</td>\n",
              "      <td>1</td>\n",
              "    </tr>\n",
              "    <tr>\n",
              "      <th>train4</th>\n",
              "      <td>[12149.0, 15526.0, 10791.0, -15315.0, 2639.0, ...</td>\n",
              "      <td>[-3006.0, 59959.0, -2587.0, -1264.0, -225.0, -...</td>\n",
              "      <td>1</td>\n",
              "    </tr>\n",
              "    <tr>\n",
              "      <th>train6</th>\n",
              "      <td>[2.0, 2.0, 2.0, 1.0, 3.0, 1.0, 2.0, 2.0, 3.0, ...</td>\n",
              "      <td>[-1705.0, -772.0, 4741.0, 3431.0, -8435.0, -64...</td>\n",
              "      <td>1</td>\n",
              "    </tr>\n",
              "    <tr>\n",
              "      <th>...</th>\n",
              "      <td>...</td>\n",
              "      <td>...</td>\n",
              "      <td>...</td>\n",
              "    </tr>\n",
              "    <tr>\n",
              "      <th>train4045</th>\n",
              "      <td>[3144.0, -2320.0, -5063.0, -10603.0, -3246.0, ...</td>\n",
              "      <td>[-6817.0, -8530.0, -3392.0, -11955.0, -1679.0,...</td>\n",
              "      <td>1</td>\n",
              "    </tr>\n",
              "    <tr>\n",
              "      <th>train4046</th>\n",
              "      <td>[-14481.0, -314.0, 11201.0, -8942.0, -1180.0, ...</td>\n",
              "      <td>[-894.0, 9428.0, -3563.0, -109.0, -16300.0, -1...</td>\n",
              "      <td>0</td>\n",
              "    </tr>\n",
              "    <tr>\n",
              "      <th>train4047</th>\n",
              "      <td>[-2907.0, 9751.0, 14806.0, 2.0, -17031.0, -399...</td>\n",
              "      <td>[1804.0, 12086.0, -1686.0, 10098.0, -8410.0, -...</td>\n",
              "      <td>0</td>\n",
              "    </tr>\n",
              "    <tr>\n",
              "      <th>train4049</th>\n",
              "      <td>[4.0, 2.0, 2.0, 1.0, 2.0, 2.0, 2.0, 4.0, 2.0, ...</td>\n",
              "      <td>[-3934.0, -10457.0, -2613.0, -890.0, 4557.0, 2...</td>\n",
              "      <td>-1</td>\n",
              "    </tr>\n",
              "    <tr>\n",
              "      <th>train4050</th>\n",
              "      <td>[5957.0, 5957.0, 1951.0, 3954.0, 1951.0, -1006...</td>\n",
              "      <td>[20402.0, 11181.0, 6524.0, -17971.0, -2767.0, ...</td>\n",
              "      <td>1</td>\n",
              "    </tr>\n",
              "  </tbody>\n",
              "</table>\n",
              "<p>3597 rows × 3 columns</p>\n",
              "</div>\n",
              "      <button class=\"colab-df-convert\" onclick=\"convertToInteractive('df-01878811-a505-417e-a106-5db6cdb9db7e')\"\n",
              "              title=\"Convert this dataframe to an interactive table.\"\n",
              "              style=\"display:none;\">\n",
              "        \n",
              "  <svg xmlns=\"http://www.w3.org/2000/svg\" height=\"24px\"viewBox=\"0 0 24 24\"\n",
              "       width=\"24px\">\n",
              "    <path d=\"M0 0h24v24H0V0z\" fill=\"none\"/>\n",
              "    <path d=\"M18.56 5.44l.94 2.06.94-2.06 2.06-.94-2.06-.94-.94-2.06-.94 2.06-2.06.94zm-11 1L8.5 8.5l.94-2.06 2.06-.94-2.06-.94L8.5 2.5l-.94 2.06-2.06.94zm10 10l.94 2.06.94-2.06 2.06-.94-2.06-.94-.94-2.06-.94 2.06-2.06.94z\"/><path d=\"M17.41 7.96l-1.37-1.37c-.4-.4-.92-.59-1.43-.59-.52 0-1.04.2-1.43.59L10.3 9.45l-7.72 7.72c-.78.78-.78 2.05 0 2.83L4 21.41c.39.39.9.59 1.41.59.51 0 1.02-.2 1.41-.59l7.78-7.78 2.81-2.81c.8-.78.8-2.07 0-2.86zM5.41 20L4 18.59l7.72-7.72 1.47 1.35L5.41 20z\"/>\n",
              "  </svg>\n",
              "      </button>\n",
              "      \n",
              "  <style>\n",
              "    .colab-df-container {\n",
              "      display:flex;\n",
              "      flex-wrap:wrap;\n",
              "      gap: 12px;\n",
              "    }\n",
              "\n",
              "    .colab-df-convert {\n",
              "      background-color: #E8F0FE;\n",
              "      border: none;\n",
              "      border-radius: 50%;\n",
              "      cursor: pointer;\n",
              "      display: none;\n",
              "      fill: #1967D2;\n",
              "      height: 32px;\n",
              "      padding: 0 0 0 0;\n",
              "      width: 32px;\n",
              "    }\n",
              "\n",
              "    .colab-df-convert:hover {\n",
              "      background-color: #E2EBFA;\n",
              "      box-shadow: 0px 1px 2px rgba(60, 64, 67, 0.3), 0px 1px 3px 1px rgba(60, 64, 67, 0.15);\n",
              "      fill: #174EA6;\n",
              "    }\n",
              "\n",
              "    [theme=dark] .colab-df-convert {\n",
              "      background-color: #3B4455;\n",
              "      fill: #D2E3FC;\n",
              "    }\n",
              "\n",
              "    [theme=dark] .colab-df-convert:hover {\n",
              "      background-color: #434B5C;\n",
              "      box-shadow: 0px 1px 3px 1px rgba(0, 0, 0, 0.15);\n",
              "      filter: drop-shadow(0px 1px 2px rgba(0, 0, 0, 0.3));\n",
              "      fill: #FFFFFF;\n",
              "    }\n",
              "  </style>\n",
              "\n",
              "      <script>\n",
              "        const buttonEl =\n",
              "          document.querySelector('#df-01878811-a505-417e-a106-5db6cdb9db7e button.colab-df-convert');\n",
              "        buttonEl.style.display =\n",
              "          google.colab.kernel.accessAllowed ? 'block' : 'none';\n",
              "\n",
              "        async function convertToInteractive(key) {\n",
              "          const element = document.querySelector('#df-01878811-a505-417e-a106-5db6cdb9db7e');\n",
              "          const dataTable =\n",
              "            await google.colab.kernel.invokeFunction('convertToInteractive',\n",
              "                                                     [key], {});\n",
              "          if (!dataTable) return;\n",
              "\n",
              "          const docLinkHtml = 'Like what you see? Visit the ' +\n",
              "            '<a target=\"_blank\" href=https://colab.research.google.com/notebooks/data_table.ipynb>data table notebook</a>'\n",
              "            + ' to learn more about interactive tables.';\n",
              "          element.innerHTML = '';\n",
              "          dataTable['output_type'] = 'display_data';\n",
              "          await google.colab.output.renderOutput(dataTable, element);\n",
              "          const docLink = document.createElement('div');\n",
              "          docLink.innerHTML = docLinkHtml;\n",
              "          element.appendChild(docLink);\n",
              "        }\n",
              "      </script>\n",
              "    </div>\n",
              "  </div>\n",
              "  "
            ]
          },
          "metadata": {},
          "execution_count": 31
        }
      ]
    },
    {
      "cell_type": "code",
      "source": [
        "numerical_data.to_csv('numerical_data.csv')\n",
        "categorical_data.to_csv('categorical_data.csv')"
      ],
      "metadata": {
        "id": "ddqmyI7YeIyq"
      },
      "execution_count": null,
      "outputs": []
    },
    {
      "cell_type": "markdown",
      "source": [
        "### Visualizing the target values of categorical vs numerical values"
      ],
      "metadata": {
        "id": "QcPvrzTJbQ1p"
      }
    },
    {
      "cell_type": "code",
      "source": [
        "plt.hist(categorical_data['Target'], label='categorical data')\n",
        "plt.hist(numerical_data['Target'], label='numerical data')\n",
        "\n",
        "plt.legend(loc='upper right')\n",
        "plt.show()"
      ],
      "metadata": {
        "colab": {
          "base_uri": "https://localhost:8080/",
          "height": 265
        },
        "id": "H-LMwKarbP_X",
        "outputId": "b4ba888e-9c74-49bc-eb58-fc529d74eb1e"
      },
      "execution_count": null,
      "outputs": [
        {
          "output_type": "display_data",
          "data": {
            "text/plain": [
              "<Figure size 432x288 with 1 Axes>"
            ],
            "image/png": "[encoded data removed]"
          },
          "metadata": {
            "needs_background": "light"
          }
        }
      ]
    },
    {
      "cell_type": "markdown",
      "source": [
        "The 2 datasets have the same distribution of target values"
      ],
      "metadata": {
        "id": "MvgagdLVcSf5"
      }
    },
    {
      "cell_type": "markdown",
      "source": [
        "\n",
        "\n",
        "---\n",
        "\n",
        "\n",
        "\n",
        "\n",
        "\n",
        "---\n",
        "\n",
        "\n",
        "\n",
        "---\n",
        "\n"
      ],
      "metadata": {
        "id": "1zrDIexCsrkX"
      }
    }
  ],
  "metadata": {
    "colab": {
      "provenance": []
    },
    "kernelspec": {
      "display_name": "Python 3",
      "language": "python",
      "name": "python3"
    },
    "language_info": {
      "codemirror_mode": {
        "name": "ipython",
        "version": 3
      },
      "file_extension": ".py",
      "mimetype": "text/x-python",
      "name": "python",
      "nbconvert_exporter": "python",
      "pygments_lexer": "ipython3",
      "version": "3.10.9"
    },
    "orig_nbformat": 4,
    "vscode": {
      "interpreter": {
        "hash": "e7370f93d1d0cde622a1f8e1c04877d8463912d04d973331ad4851f04de6915a"
      }
    },
    "widgets": {
      "application/vnd.jupyter.widget-state+json": {
        "f93921c0ec9d4d0983ccc56ce8aebb3d": {
          "model_module": "@jupyter-widgets/controls",
          "model_name": "HBoxModel",
          "model_module_version": "1.5.0",
          "state": {
            "_dom_classes": [],
            "_model_module": "@jupyter-widgets/controls",
            "_model_module_version": "1.5.0",
            "_model_name": "HBoxModel",
            "_view_count": null,
            "_view_module": "@jupyter-widgets/controls",
            "_view_module_version": "1.5.0",
            "_view_name": "HBoxView",
            "box_style": "",
            "children": [
              "IPY_MODEL_ebb60d91f4574812a6203d2ada65087f",
              "IPY_MODEL_0acb029362fb416faf8ed73120f190ec",
              "IPY_MODEL_bee4f330e5fb4be2b2f022130c8b90a3"
            ],
            "layout": "IPY_MODEL_29756181d0d9481a9fde7748ce4ede89"
          }
        },
        "ebb60d91f4574812a6203d2ada65087f": {
          "model_module": "@jupyter-widgets/controls",
          "model_name": "HTMLModel",
          "model_module_version": "1.5.0",
          "state": {
            "_dom_classes": [],
            "_model_module": "@jupyter-widgets/controls",
            "_model_module_version": "1.5.0",
            "_model_name": "HTMLModel",
            "_view_count": null,
            "_view_module": "@jupyter-widgets/controls",
            "_view_module_version": "1.5.0",
            "_view_name": "HTMLView",
            "description": "",
            "description_tooltip": null,
            "layout": "IPY_MODEL_62e3dcb099b24f47b1397ce1a1b1cf77",
            "placeholder": "​",
            "style": "IPY_MODEL_c345b35c1ecd41c7b4b067f960f2be22",
            "value": "100%"
          }
        },
        "0acb029362fb416faf8ed73120f190ec": {
          "model_module": "@jupyter-widgets/controls",
          "model_name": "FloatProgressModel",
          "model_module_version": "1.5.0",
          "state": {
            "_dom_classes": [],
            "_model_module": "@jupyter-widgets/controls",
            "_model_module_version": "1.5.0",
            "_model_name": "FloatProgressModel",
            "_view_count": null,
            "_view_module": "@jupyter-widgets/controls",
            "_view_module_version": "1.5.0",
            "_view_name": "ProgressView",
            "bar_style": "success",
            "description": "",
            "description_tooltip": null,
            "layout": "IPY_MODEL_67c2d3bff1164de5958a44e4fce1d5e0",
            "max": 4050,
            "min": 0,
            "orientation": "horizontal",
            "style": "IPY_MODEL_16068c9b7b8a47e988cd71a85c97ed75",
            "value": 4050
          }
        },
        "bee4f330e5fb4be2b2f022130c8b90a3": {
          "model_module": "@jupyter-widgets/controls",
          "model_name": "HTMLModel",
          "model_module_version": "1.5.0",
          "state": {
            "_dom_classes": [],
            "_model_module": "@jupyter-widgets/controls",
            "_model_module_version": "1.5.0",
            "_model_name": "HTMLModel",
            "_view_count": null,
            "_view_module": "@jupyter-widgets/controls",
            "_view_module_version": "1.5.0",
            "_view_name": "HTMLView",
            "description": "",
            "description_tooltip": null,
            "layout": "IPY_MODEL_f1c30983e9834b5cac43878c383c4b6b",
            "placeholder": "​",
            "style": "IPY_MODEL_a74f5589533947f58caca203219936c1",
            "value": " 4050/4050 [00:00&lt;00:00, 5386.55it/s]"
          }
        },
        "29756181d0d9481a9fde7748ce4ede89": {
          "model_module": "@jupyter-widgets/base",
          "model_name": "LayoutModel",
          "model_module_version": "1.2.0",
          "state": {
            "_model_module": "@jupyter-widgets/base",
            "_model_module_version": "1.2.0",
            "_model_name": "LayoutModel",
            "_view_count": null,
            "_view_module": "@jupyter-widgets/base",
            "_view_module_version": "1.2.0",
            "_view_name": "LayoutView",
            "align_content": null,
            "align_items": null,
            "align_self": null,
            "border": null,
            "bottom": null,
            "display": null,
            "flex": null,
            "flex_flow": null,
            "grid_area": null,
            "grid_auto_columns": null,
            "grid_auto_flow": null,
            "grid_auto_rows": null,
            "grid_column": null,
            "grid_gap": null,
            "grid_row": null,
            "grid_template_areas": null,
            "grid_template_columns": null,
            "grid_template_rows": null,
            "height": null,
            "justify_content": null,
            "justify_items": null,
            "left": null,
            "margin": null,
            "max_height": null,
            "max_width": null,
            "min_height": null,
            "min_width": null,
            "object_fit": null,
            "object_position": null,
            "order": null,
            "overflow": null,
            "overflow_x": null,
            "overflow_y": null,
            "padding": null,
            "right": null,
            "top": null,
            "visibility": null,
            "width": null
          }
        },
        "62e3dcb099b24f47b1397ce1a1b1cf77": {
          "model_module": "@jupyter-widgets/base",
          "model_name": "LayoutModel",
          "model_module_version": "1.2.0",
          "state": {
            "_model_module": "@jupyter-widgets/base",
            "_model_module_version": "1.2.0",
            "_model_name": "LayoutModel",
            "_view_count": null,
            "_view_module": "@jupyter-widgets/base",
            "_view_module_version": "1.2.0",
            "_view_name": "LayoutView",
            "align_content": null,
            "align_items": null,
            "align_self": null,
            "border": null,
            "bottom": null,
            "display": null,
            "flex": null,
            "flex_flow": null,
            "grid_area": null,
            "grid_auto_columns": null,
            "grid_auto_flow": null,
            "grid_auto_rows": null,
            "grid_column": null,
            "grid_gap": null,
            "grid_row": null,
            "grid_template_areas": null,
            "grid_template_columns": null,
            "grid_template_rows": null,
            "height": null,
            "justify_content": null,
            "justify_items": null,
            "left": null,
            "margin": null,
            "max_height": null,
            "max_width": null,
            "min_height": null,
            "min_width": null,
            "object_fit": null,
            "object_position": null,
            "order": null,
            "overflow": null,
            "overflow_x": null,
            "overflow_y": null,
            "padding": null,
            "right": null,
            "top": null,
            "visibility": null,
            "width": null
          }
        },
        "c345b35c1ecd41c7b4b067f960f2be22": {
          "model_module": "@jupyter-widgets/controls",
          "model_name": "DescriptionStyleModel",
          "model_module_version": "1.5.0",
          "state": {
            "_model_module": "@jupyter-widgets/controls",
            "_model_module_version": "1.5.0",
            "_model_name": "DescriptionStyleModel",
            "_view_count": null,
            "_view_module": "@jupyter-widgets/base",
            "_view_module_version": "1.2.0",
            "_view_name": "StyleView",
            "description_width": ""
          }
        },
        "67c2d3bff1164de5958a44e4fce1d5e0": {
          "model_module": "@jupyter-widgets/base",
          "model_name": "LayoutModel",
          "model_module_version": "1.2.0",
          "state": {
            "_model_module": "@jupyter-widgets/base",
            "_model_module_version": "1.2.0",
            "_model_name": "LayoutModel",
            "_view_count": null,
            "_view_module": "@jupyter-widgets/base",
            "_view_module_version": "1.2.0",
            "_view_name": "LayoutView",
            "align_content": null,
            "align_items": null,
            "align_self": null,
            "border": null,
            "bottom": null,
            "display": null,
            "flex": null,
            "flex_flow": null,
            "grid_area": null,
            "grid_auto_columns": null,
            "grid_auto_flow": null,
            "grid_auto_rows": null,
            "grid_column": null,
            "grid_gap": null,
            "grid_row": null,
            "grid_template_areas": null,
            "grid_template_columns": null,
            "grid_template_rows": null,
            "height": null,
            "justify_content": null,
            "justify_items": null,
            "left": null,
            "margin": null,
            "max_height": null,
            "max_width": null,
            "min_height": null,
            "min_width": null,
            "object_fit": null,
            "object_position": null,
            "order": null,
            "overflow": null,
            "overflow_x": null,
            "overflow_y": null,
            "padding": null,
            "right": null,
            "top": null,
            "visibility": null,
            "width": null
          }
        },
        "16068c9b7b8a47e988cd71a85c97ed75": {
          "model_module": "@jupyter-widgets/controls",
          "model_name": "ProgressStyleModel",
          "model_module_version": "1.5.0",
          "state": {
            "_model_module": "@jupyter-widgets/controls",
            "_model_module_version": "1.5.0",
            "_model_name": "ProgressStyleModel",
            "_view_count": null,
            "_view_module": "@jupyter-widgets/base",
            "_view_module_version": "1.2.0",
            "_view_name": "StyleView",
            "bar_color": null,
            "description_width": ""
          }
        },
        "f1c30983e9834b5cac43878c383c4b6b": {
          "model_module": "@jupyter-widgets/base",
          "model_name": "LayoutModel",
          "model_module_version": "1.2.0",
          "state": {
            "_model_module": "@jupyter-widgets/base",
            "_model_module_version": "1.2.0",
            "_model_name": "LayoutModel",
            "_view_count": null,
            "_view_module": "@jupyter-widgets/base",
            "_view_module_version": "1.2.0",
            "_view_name": "LayoutView",
            "align_content": null,
            "align_items": null,
            "align_self": null,
            "border": null,
            "bottom": null,
            "display": null,
            "flex": null,
            "flex_flow": null,
            "grid_area": null,
            "grid_auto_columns": null,
            "grid_auto_flow": null,
            "grid_auto_rows": null,
            "grid_column": null,
            "grid_gap": null,
            "grid_row": null,
            "grid_template_areas": null,
            "grid_template_columns": null,
            "grid_template_rows": null,
            "height": null,
            "justify_content": null,
            "justify_items": null,
            "left": null,
            "margin": null,
            "max_height": null,
            "max_width": null,
            "min_height": null,
            "min_width": null,
            "object_fit": null,
            "object_position": null,
            "order": null,
            "overflow": null,
            "overflow_x": null,
            "overflow_y": null,
            "padding": null,
            "right": null,
            "top": null,
            "visibility": null,
            "width": null
          }
        },
        "a74f5589533947f58caca203219936c1": {
          "model_module": "@jupyter-widgets/controls",
          "model_name": "DescriptionStyleModel",
          "model_module_version": "1.5.0",
          "state": {
            "_model_module": "@jupyter-widgets/controls",
            "_model_module_version": "1.5.0",
            "_model_name": "DescriptionStyleModel",
            "_view_count": null,
            "_view_module": "@jupyter-widgets/base",
            "_view_module_version": "1.2.0",
            "_view_name": "StyleView",
            "description_width": ""
          }
        },
        "44e66400d988458d95179ba3ae145e43": {
          "model_module": "@jupyter-widgets/controls",
          "model_name": "HBoxModel",
          "model_module_version": "1.5.0",
          "state": {
            "_dom_classes": [],
            "_model_module": "@jupyter-widgets/controls",
            "_model_module_version": "1.5.0",
            "_model_name": "HBoxModel",
            "_view_count": null,
            "_view_module": "@jupyter-widgets/controls",
            "_view_module_version": "1.5.0",
            "_view_name": "HBoxView",
            "box_style": "",
            "children": [
              "IPY_MODEL_f2354cdcfb59498a954ddf6d83f9dce3",
              "IPY_MODEL_6ef4947f7ff94133a872a20efb2e0450",
              "IPY_MODEL_b7ba685f4ea74a9f837b30d105199d8e"
            ],
            "layout": "IPY_MODEL_506e87f4a8f84a49bf42c526f48b625b"
          }
        },
        "f2354cdcfb59498a954ddf6d83f9dce3": {
          "model_module": "@jupyter-widgets/controls",
          "model_name": "HTMLModel",
          "model_module_version": "1.5.0",
          "state": {
            "_dom_classes": [],
            "_model_module": "@jupyter-widgets/controls",
            "_model_module_version": "1.5.0",
            "_model_name": "HTMLModel",
            "_view_count": null,
            "_view_module": "@jupyter-widgets/controls",
            "_view_module_version": "1.5.0",
            "_view_name": "HTMLView",
            "description": "",
            "description_tooltip": null,
            "layout": "IPY_MODEL_818d2f3407c54c42a5542b382d3ba7d2",
            "placeholder": "​",
            "style": "IPY_MODEL_7b3eb877dc0344d6a8c27b7007589d32",
            "value": "100%"
          }
        },
        "6ef4947f7ff94133a872a20efb2e0450": {
          "model_module": "@jupyter-widgets/controls",
          "model_name": "FloatProgressModel",
          "model_module_version": "1.5.0",
          "state": {
            "_dom_classes": [],
            "_model_module": "@jupyter-widgets/controls",
            "_model_module_version": "1.5.0",
            "_model_name": "FloatProgressModel",
            "_view_count": null,
            "_view_module": "@jupyter-widgets/controls",
            "_view_module_version": "1.5.0",
            "_view_name": "ProgressView",
            "bar_style": "success",
            "description": "",
            "description_tooltip": null,
            "layout": "IPY_MODEL_2584a364fccd4afcb5c4be3343d2542f",
            "max": 4050,
            "min": 0,
            "orientation": "horizontal",
            "style": "IPY_MODEL_ee95697c446f4f51aea1ec95649272a4",
            "value": 4050
          }
        },
        "b7ba685f4ea74a9f837b30d105199d8e": {
          "model_module": "@jupyter-widgets/controls",
          "model_name": "HTMLModel",
          "model_module_version": "1.5.0",
          "state": {
            "_dom_classes": [],
            "_model_module": "@jupyter-widgets/controls",
            "_model_module_version": "1.5.0",
            "_model_name": "HTMLModel",
            "_view_count": null,
            "_view_module": "@jupyter-widgets/controls",
            "_view_module_version": "1.5.0",
            "_view_name": "HTMLView",
            "description": "",
            "description_tooltip": null,
            "layout": "IPY_MODEL_1b04c8c980e2406282649c8e8b95386e",
            "placeholder": "​",
            "style": "IPY_MODEL_98a8f2404f39452184c0f67972164c0d",
            "value": " 4050/4050 [12:26&lt;00:00,  7.51it/s]"
          }
        },
        "506e87f4a8f84a49bf42c526f48b625b": {
          "model_module": "@jupyter-widgets/base",
          "model_name": "LayoutModel",
          "model_module_version": "1.2.0",
          "state": {
            "_model_module": "@jupyter-widgets/base",
            "_model_module_version": "1.2.0",
            "_model_name": "LayoutModel",
            "_view_count": null,
            "_view_module": "@jupyter-widgets/base",
            "_view_module_version": "1.2.0",
            "_view_name": "LayoutView",
            "align_content": null,
            "align_items": null,
            "align_self": null,
            "border": null,
            "bottom": null,
            "display": null,
            "flex": null,
            "flex_flow": null,
            "grid_area": null,
            "grid_auto_columns": null,
            "grid_auto_flow": null,
            "grid_auto_rows": null,
            "grid_column": null,
            "grid_gap": null,
            "grid_row": null,
            "grid_template_areas": null,
            "grid_template_columns": null,
            "grid_template_rows": null,
            "height": null,
            "justify_content": null,
            "justify_items": null,
            "left": null,
            "margin": null,
            "max_height": null,
            "max_width": null,
            "min_height": null,
            "min_width": null,
            "object_fit": null,
            "object_position": null,
            "order": null,
            "overflow": null,
            "overflow_x": null,
            "overflow_y": null,
            "padding": null,
            "right": null,
            "top": null,
            "visibility": null,
            "width": null
          }
        },
        "818d2f3407c54c42a5542b382d3ba7d2": {
          "model_module": "@jupyter-widgets/base",
          "model_name": "LayoutModel",
          "model_module_version": "1.2.0",
          "state": {
            "_model_module": "@jupyter-widgets/base",
            "_model_module_version": "1.2.0",
            "_model_name": "LayoutModel",
            "_view_count": null,
            "_view_module": "@jupyter-widgets/base",
            "_view_module_version": "1.2.0",
            "_view_name": "LayoutView",
            "align_content": null,
            "align_items": null,
            "align_self": null,
            "border": null,
            "bottom": null,
            "display": null,
            "flex": null,
            "flex_flow": null,
            "grid_area": null,
            "grid_auto_columns": null,
            "grid_auto_flow": null,
            "grid_auto_rows": null,
            "grid_column": null,
            "grid_gap": null,
            "grid_row": null,
            "grid_template_areas": null,
            "grid_template_columns": null,
            "grid_template_rows": null,
            "height": null,
            "justify_content": null,
            "justify_items": null,
            "left": null,
            "margin": null,
            "max_height": null,
            "max_width": null,
            "min_height": null,
            "min_width": null,
            "object_fit": null,
            "object_position": null,
            "order": null,
            "overflow": null,
            "overflow_x": null,
            "overflow_y": null,
            "padding": null,
            "right": null,
            "top": null,
            "visibility": null,
            "width": null
          }
        },
        "7b3eb877dc0344d6a8c27b7007589d32": {
          "model_module": "@jupyter-widgets/controls",
          "model_name": "DescriptionStyleModel",
          "model_module_version": "1.5.0",
          "state": {
            "_model_module": "@jupyter-widgets/controls",
            "_model_module_version": "1.5.0",
            "_model_name": "DescriptionStyleModel",
            "_view_count": null,
            "_view_module": "@jupyter-widgets/base",
            "_view_module_version": "1.2.0",
            "_view_name": "StyleView",
            "description_width": ""
          }
        },
        "2584a364fccd4afcb5c4be3343d2542f": {
          "model_module": "@jupyter-widgets/base",
          "model_name": "LayoutModel",
          "model_module_version": "1.2.0",
          "state": {
            "_model_module": "@jupyter-widgets/base",
            "_model_module_version": "1.2.0",
            "_model_name": "LayoutModel",
            "_view_count": null,
            "_view_module": "@jupyter-widgets/base",
            "_view_module_version": "1.2.0",
            "_view_name": "LayoutView",
            "align_content": null,
            "align_items": null,
            "align_self": null,
            "border": null,
            "bottom": null,
            "display": null,
            "flex": null,
            "flex_flow": null,
            "grid_area": null,
            "grid_auto_columns": null,
            "grid_auto_flow": null,
            "grid_auto_rows": null,
            "grid_column": null,
            "grid_gap": null,
            "grid_row": null,
            "grid_template_areas": null,
            "grid_template_columns": null,
            "grid_template_rows": null,
            "height": null,
            "justify_content": null,
            "justify_items": null,
            "left": null,
            "margin": null,
            "max_height": null,
            "max_width": null,
            "min_height": null,
            "min_width": null,
            "object_fit": null,
            "object_position": null,
            "order": null,
            "overflow": null,
            "overflow_x": null,
            "overflow_y": null,
            "padding": null,
            "right": null,
            "top": null,
            "visibility": null,
            "width": null
          }
        },
        "ee95697c446f4f51aea1ec95649272a4": {
          "model_module": "@jupyter-widgets/controls",
          "model_name": "ProgressStyleModel",
          "model_module_version": "1.5.0",
          "state": {
            "_model_module": "@jupyter-widgets/controls",
            "_model_module_version": "1.5.0",
            "_model_name": "ProgressStyleModel",
            "_view_count": null,
            "_view_module": "@jupyter-widgets/base",
            "_view_module_version": "1.2.0",
            "_view_name": "StyleView",
            "bar_color": null,
            "description_width": ""
          }
        },
        "1b04c8c980e2406282649c8e8b95386e": {
          "model_module": "@jupyter-widgets/base",
          "model_name": "LayoutModel",
          "model_module_version": "1.2.0",
          "state": {
            "_model_module": "@jupyter-widgets/base",
            "_model_module_version": "1.2.0",
            "_model_name": "LayoutModel",
            "_view_count": null,
            "_view_module": "@jupyter-widgets/base",
            "_view_module_version": "1.2.0",
            "_view_name": "LayoutView",
            "align_content": null,
            "align_items": null,
            "align_self": null,
            "border": null,
            "bottom": null,
            "display": null,
            "flex": null,
            "flex_flow": null,
            "grid_area": null,
            "grid_auto_columns": null,
            "grid_auto_flow": null,
            "grid_auto_rows": null,
            "grid_column": null,
            "grid_gap": null,
            "grid_row": null,
            "grid_template_areas": null,
            "grid_template_columns": null,
            "grid_template_rows": null,
            "height": null,
            "justify_content": null,
            "justify_items": null,
            "left": null,
            "margin": null,
            "max_height": null,
            "max_width": null,
            "min_height": null,
            "min_width": null,
            "object_fit": null,
            "object_position": null,
            "order": null,
            "overflow": null,
            "overflow_x": null,
            "overflow_y": null,
            "padding": null,
            "right": null,
            "top": null,
            "visibility": null,
            "width": null
          }
        },
        "98a8f2404f39452184c0f67972164c0d": {
          "model_module": "@jupyter-widgets/controls",
          "model_name": "DescriptionStyleModel",
          "model_module_version": "1.5.0",
          "state": {
            "_model_module": "@jupyter-widgets/controls",
            "_model_module_version": "1.5.0",
            "_model_name": "DescriptionStyleModel",
            "_view_count": null,
            "_view_module": "@jupyter-widgets/base",
            "_view_module_version": "1.2.0",
            "_view_name": "StyleView",
            "description_width": ""
          }
        }
      }
    },
    "accelerator": "GPU",
    "gpuClass": "standard"
  },
  "nbformat": 4,
  "nbformat_minor": 0
}